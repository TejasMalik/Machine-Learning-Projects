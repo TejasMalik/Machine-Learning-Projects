{
 "cells": [
  {
   "cell_type": "code",
   "execution_count": 1,
   "metadata": {},
   "outputs": [],
   "source": [
    "# Coordinates of detected objects\n",
    "detected_obj = {'puffed_wheat.png': [[412,235,410,390,518,391,523,237]],\n",
    "        \n",
    " 'nature_promise_raisin.png': [[519,58,514,203,615,200,619,60]],\n",
    " 'nature_promise_nut.png': [[399,56,396,208,500,206,497,57]],\n",
    " 'puffed_rice.png': [[298,236,296,389,405,392,407,235]],\n",
    " 'shredded_wheat.png': [[388,598,389,731,479,733,487,599],\n",
    "  [523,242,518,393,619,390,623,246]],\n",
    " 'oats.png': [[191,241,194,388,293,390,292,240]],\n",
    " 'chocos_125g.png': [[194,790,191,898,284,896,280,789], [304,809,302,892,372,891,372,810]]\n",
    "       }"
   ]
  },
  {
   "cell_type": "code",
   "execution_count": 2,
   "metadata": {},
   "outputs": [],
   "source": [
    "import pandas as pd\n",
    "\n",
    "data = pd.read_csv('test_labels.csv')"
   ]
  },
  {
   "cell_type": "code",
   "execution_count": 3,
   "metadata": {},
   "outputs": [],
   "source": [
    "actual_obj_cood = {}\n",
    "keys = data.iloc[:,3].values\n",
    "values = data.iloc[:,4:8].values\n",
    "\n",
    "for i in range(len(keys)):\n",
    "    actual_obj_cood[keys[i]] = list(values[i]) "
   ]
  },
  {
   "cell_type": "code",
   "execution_count": 4,
   "metadata": {},
   "outputs": [
    {
     "data": {
      "text/plain": [
       "{'rack': [168, 199, 204, 219],\n",
       " 'nature_promise_nut.png': [396, 47, 500, 196],\n",
       " 'nature_promise_raisin.png': [515, 52, 617, 195],\n",
       " 'oats.png': [190, 233, 295, 381],\n",
       " 'puffed_rice.png': [297, 228, 409, 382],\n",
       " 'puffed_wheat.png': [410, 227, 519, 385],\n",
       " 'shredded_wheat.png': [522, 235, 624, 384],\n",
       " 'chocos_125g.png': [191, 788, 285, 886]}"
      ]
     },
     "execution_count": 4,
     "metadata": {},
     "output_type": "execute_result"
    }
   ],
   "source": [
    "actual_obj_cood"
   ]
  },
  {
   "cell_type": "code",
   "execution_count": 5,
   "metadata": {},
   "outputs": [],
   "source": [
    "# Compute Euclidian Distance between two points\n",
    "import math\n",
    "\n",
    "def distance_for_actual(list_of_coods):\n",
    "    p1 = (list_of_coods[0], list_of_coods[0])\n",
    "    p2 = (list_of_coods[1], list_of_coods[3])\n",
    "    height = math.sqrt(((abs(p1[0] - p1[1]))**2) + ((abs(p2[0] - p2[1]))**2))\n",
    "    \n",
    "    return height"
   ]
  },
  {
   "cell_type": "code",
   "execution_count": 6,
   "metadata": {},
   "outputs": [],
   "source": [
    "def actual_length(actual_obj_cood):\n",
    "    dict_actual = {}\n",
    "    for key in actual_obj_cood.keys():\n",
    "        dict_actual[key] = distance_for_actual(actual_obj_cood[key])\n",
    "    return dict_actual"
   ]
  },
  {
   "cell_type": "code",
   "execution_count": 7,
   "metadata": {},
   "outputs": [
    {
     "data": {
      "text/plain": [
       "{'rack': 20.0,\n",
       " 'nature_promise_nut.png': 149.0,\n",
       " 'nature_promise_raisin.png': 143.0,\n",
       " 'oats.png': 148.0,\n",
       " 'puffed_rice.png': 154.0,\n",
       " 'puffed_wheat.png': 158.0,\n",
       " 'shredded_wheat.png': 149.0,\n",
       " 'chocos_125g.png': 98.0}"
      ]
     },
     "execution_count": 7,
     "metadata": {},
     "output_type": "execute_result"
    }
   ],
   "source": [
    "actual_length(actual_obj_cood)"
   ]
  },
  {
   "cell_type": "code",
   "execution_count": 8,
   "metadata": {},
   "outputs": [],
   "source": [
    "actual_obj_length = actual_length(actual_obj_cood)"
   ]
  },
  {
   "cell_type": "code",
   "execution_count": 9,
   "metadata": {},
   "outputs": [],
   "source": [
    "rack = actual_obj_length['rack']"
   ]
  },
  {
   "cell_type": "code",
   "execution_count": 10,
   "metadata": {},
   "outputs": [],
   "source": [
    "del actual_obj_length['rack']"
   ]
  },
  {
   "cell_type": "code",
   "execution_count": 11,
   "metadata": {},
   "outputs": [],
   "source": [
    "# Compute Euclidian Distance between two points\n",
    "import math\n",
    "\n",
    "def distance_cood(list_of_coods):\n",
    "    p1 = (list_of_coods[0], list_of_coods[2])\n",
    "    p2 = (list_of_coods[1], list_of_coods[3])\n",
    "    height = math.sqrt(((abs(p1[0] - p1[1]))**2) + ((abs(p2[0] - p2[1]))**2))\n",
    "    \n",
    "    return height"
   ]
  },
  {
   "cell_type": "code",
   "execution_count": 12,
   "metadata": {},
   "outputs": [],
   "source": [
    "# Calculate the length of the detected products and put it in dictionary \n",
    "def calc_length(detected_obj):\n",
    "    dict_lengths = {}\n",
    "    for key in detected_obj.keys():\n",
    "        length_of_all = []\n",
    "        l = detected_obj[key]\n",
    "        for i in range(len(l)):\n",
    "            list_of_coods_left = l[i][0:4]\n",
    "            list_of_coods_right = l[i][4:8]\n",
    "            length = [distance_cood(list_of_coods_left), distance_cood(list_of_coods_right)]\n",
    "            length_of_all.append(length)\n",
    "        dict_lengths[key] = length_of_all\n",
    "    return dict_lengths"
   ]
  },
  {
   "cell_type": "code",
   "execution_count": 13,
   "metadata": {},
   "outputs": [
    {
     "data": {
      "text/plain": [
       "{'puffed_wheat.png': [[155.0129026887762, 154.0811474515945]],\n",
       " 'nature_promise_raisin.png': [[145.08618128546908, 140.05713120009278]],\n",
       " 'nature_promise_nut.png': [[152.029602380589, 149.03019828209315]],\n",
       " 'puffed_rice.png': [[153.0130713370593, 157.01273833673497]],\n",
       " 'shredded_wheat.png': [[133.00375934536586, 134.23859355639868],\n",
       "  [151.08275877809487, 144.05554484295286]],\n",
       " 'oats.png': [[147.03060905811415, 150.00333329629711]],\n",
       " 'chocos_125g.png': [[108.04165863221463, 107.07474025184464],\n",
       "  [83.02409288875127, 81.0]]}"
      ]
     },
     "execution_count": 13,
     "metadata": {},
     "output_type": "execute_result"
    }
   ],
   "source": [
    "# Left length and right length of detected product\n",
    "calc_length(detected_obj)"
   ]
  },
  {
   "cell_type": "code",
   "execution_count": 14,
   "metadata": {},
   "outputs": [],
   "source": [
    "detected_obj_length = calc_length(detected_obj)"
   ]
  },
  {
   "cell_type": "code",
   "execution_count": 15,
   "metadata": {},
   "outputs": [],
   "source": [
    "# Computing Ratios for each of detected product\n",
    "def ratios(detected_obj_length, actual_obj_length):\n",
    "    dict_ratios = {}\n",
    "    for key in detected_obj_length.keys():\n",
    "        ratio_of_all = []\n",
    "        l = detected_obj_length[key]\n",
    "        for i in range(len(l)):\n",
    "            ratio1 = l[i][0]/actual_obj_length[key]\n",
    "            ratio2 = l[i][1]/actual_obj_length[key]\n",
    "            ratios = [ratio1, ratio2]\n",
    "            ratio_of_all.append(ratios)\n",
    "        dict_ratios[key] = ratio_of_all\n",
    "    return dict_ratios"
   ]
  },
  {
   "cell_type": "code",
   "execution_count": 16,
   "metadata": {},
   "outputs": [
    {
     "data": {
      "text/plain": [
       "{'puffed_wheat.png': [[0.9810943208150392, 0.9751971357695853]],\n",
       " 'nature_promise_raisin.png': [[1.0145886803179656, 0.9794204979027468]],\n",
       " 'nature_promise_nut.png': [[1.0203329018831477, 1.0002026730341822]],\n",
       " 'puffed_rice.png': [[0.9935913723185669, 1.0195632359528244]],\n",
       " 'shredded_wheat.png': [[0.8926426801702407, 0.9009301580966355],\n",
       "  [1.0139782468328515, 0.9668157372010259]],\n",
       " 'oats.png': [[0.993450061203474, 1.0135360357857912]],\n",
       " 'chocos_125g.png': [[1.1024659044103533, 1.0925993903249454],\n",
       "  [0.8471846213137885, 0.826530612244898]]}"
      ]
     },
     "execution_count": 16,
     "metadata": {},
     "output_type": "execute_result"
    }
   ],
   "source": [
    "ratios(detected_obj_length, actual_obj_length)"
   ]
  },
  {
   "cell_type": "code",
   "execution_count": 17,
   "metadata": {},
   "outputs": [],
   "source": [
    "detected_obj_ratios = ratios(detected_obj_length, actual_obj_length)"
   ]
  },
  {
   "cell_type": "code",
   "execution_count": 18,
   "metadata": {},
   "outputs": [],
   "source": [
    "# Putting all the ratio in a list and taking the median\n",
    "def calc_median(detected_obj_ratios):\n",
    "    l_left = []\n",
    "    l_right = []\n",
    "    for key in detected_obj_ratios:\n",
    "        l = detected_obj_ratios[key]\n",
    "        for i in range(len(l)):\n",
    "            l_left.append(l[i][0])\n",
    "            l_right.append(l[i][1])\n",
    "    sorted(l_left)\n",
    "    sorted(l_right)\n",
    "    return [l_left[len(l_left)//2], l_right[len(l_right)//2]]"
   ]
  },
  {
   "cell_type": "code",
   "execution_count": 19,
   "metadata": {},
   "outputs": [
    {
     "data": {
      "text/plain": [
       "[0.8926426801702407, 0.9009301580966355]"
      ]
     },
     "execution_count": 19,
     "metadata": {},
     "output_type": "execute_result"
    }
   ],
   "source": [
    "calc_median(detected_obj_ratios)"
   ]
  },
  {
   "cell_type": "code",
   "execution_count": 20,
   "metadata": {},
   "outputs": [],
   "source": [
    "median = calc_median(detected_obj_ratios)"
   ]
  },
  {
   "cell_type": "code",
   "execution_count": 21,
   "metadata": {},
   "outputs": [
    {
     "data": {
      "text/plain": [
       "[17.852853603404814, 18.01860316193271]"
      ]
     },
     "execution_count": 21,
     "metadata": {},
     "output_type": "execute_result"
    }
   ],
   "source": [
    "# Computing length of the rack\n",
    "rack = [rack*median[0], rack*median[1]]\n",
    "rack"
   ]
  },
  {
   "cell_type": "code",
   "execution_count": 22,
   "metadata": {},
   "outputs": [],
   "source": [
    "# Compute rack coordinates and store it dictionary\n",
    "def rack_cood(detected_obj, rack):\n",
    "    dict_rack = {}\n",
    "    for key in detected_obj.keys():\n",
    "        cood_of_rack = []\n",
    "        l = detected_obj[key]\n",
    "        for i in range(len(l)):\n",
    "            cood_of_single_rack = [max(l[i][0], l[i][2]), l[i][3], max(l[i][0], l[i][2]), (l[i][3] + rack[0]), max(l[i][4], l[i][6]), (l[i][5] + rack[1]), max(l[i][4], l[i][6]), l[i][5]]\n",
    "            \n",
    "            cood_of_rack.append(cood_of_single_rack)\n",
    "        dict_rack[key] = cood_of_rack\n",
    "    return dict_rack"
   ]
  },
  {
   "cell_type": "code",
   "execution_count": 23,
   "metadata": {},
   "outputs": [
    {
     "data": {
      "text/plain": [
       "{'puffed_wheat.png': [[412,\n",
       "   390,\n",
       "   412,\n",
       "   407.8528536034048,\n",
       "   523,\n",
       "   409.01860316193273,\n",
       "   523,\n",
       "   391]],\n",
       " 'nature_promise_raisin.png': [[519,\n",
       "   203,\n",
       "   519,\n",
       "   220.8528536034048,\n",
       "   619,\n",
       "   218.0186031619327,\n",
       "   619,\n",
       "   200]],\n",
       " 'nature_promise_nut.png': [[399,\n",
       "   208,\n",
       "   399,\n",
       "   225.8528536034048,\n",
       "   500,\n",
       "   224.0186031619327,\n",
       "   500,\n",
       "   206]],\n",
       " 'puffed_rice.png': [[298,\n",
       "   389,\n",
       "   298,\n",
       "   406.8528536034048,\n",
       "   407,\n",
       "   410.01860316193273,\n",
       "   407,\n",
       "   392]],\n",
       " 'shredded_wheat.png': [[389,\n",
       "   731,\n",
       "   389,\n",
       "   748.8528536034048,\n",
       "   487,\n",
       "   751.0186031619327,\n",
       "   487,\n",
       "   733],\n",
       "  [523, 393, 523, 410.8528536034048, 623, 408.01860316193273, 623, 390]],\n",
       " 'oats.png': [[194,\n",
       "   388,\n",
       "   194,\n",
       "   405.8528536034048,\n",
       "   293,\n",
       "   408.01860316193273,\n",
       "   293,\n",
       "   390]],\n",
       " 'chocos_125g.png': [[194,\n",
       "   898,\n",
       "   194,\n",
       "   915.8528536034048,\n",
       "   284,\n",
       "   914.0186031619327,\n",
       "   284,\n",
       "   896],\n",
       "  [304, 892, 304, 909.8528536034048, 372, 909.0186031619327, 372, 891]]}"
      ]
     },
     "execution_count": 23,
     "metadata": {},
     "output_type": "execute_result"
    }
   ],
   "source": [
    "rack_cood(detected_obj, rack)"
   ]
  },
  {
   "cell_type": "code",
   "execution_count": 24,
   "metadata": {},
   "outputs": [],
   "source": [
    "eight_cood_rack = rack_cood(detected_obj, rack)"
   ]
  },
  {
   "cell_type": "code",
   "execution_count": 25,
   "metadata": {},
   "outputs": [],
   "source": [
    "# Compute rack coordinates and store it dictionary\n",
    "def rack_cood_four(rack_detected_obj):\n",
    "    dict_rack = {}\n",
    "    for key in rack_detected_obj.keys():\n",
    "        cood_of_rack = []\n",
    "        l = rack_detected_obj[key]\n",
    "        for i in range(len(l)):\n",
    "            cood_of_single_rack = [max(l[i][0], l[i][2]), max(l[i][1], l[i][7]), max(l[i][4], l[i][6]), max(l[i][3], l[i][5])]\n",
    "            \n",
    "            cood_of_rack.append(cood_of_single_rack)\n",
    "        dict_rack[key] = cood_of_rack\n",
    "    return dict_rack"
   ]
  },
  {
   "cell_type": "code",
   "execution_count": 26,
   "metadata": {},
   "outputs": [
    {
     "data": {
      "text/plain": [
       "{'puffed_wheat.png': [[412, 391, 523, 409.01860316193273]],\n",
       " 'nature_promise_raisin.png': [[519, 203, 619, 220.8528536034048]],\n",
       " 'nature_promise_nut.png': [[399, 208, 500, 225.8528536034048]],\n",
       " 'puffed_rice.png': [[298, 392, 407, 410.01860316193273]],\n",
       " 'shredded_wheat.png': [[389, 733, 487, 751.0186031619327],\n",
       "  [523, 393, 623, 410.8528536034048]],\n",
       " 'oats.png': [[194, 390, 293, 408.01860316193273]],\n",
       " 'chocos_125g.png': [[194, 898, 284, 915.8528536034048],\n",
       "  [304, 892, 372, 909.8528536034048]]}"
      ]
     },
     "execution_count": 26,
     "metadata": {},
     "output_type": "execute_result"
    }
   ],
   "source": [
    "rack_cood_four(eight_cood_rack)"
   ]
  },
  {
   "cell_type": "code",
   "execution_count": 27,
   "metadata": {},
   "outputs": [],
   "source": [
    "res_cood = rack_cood_four(eight_cood_rack)"
   ]
  },
  {
   "cell_type": "code",
   "execution_count": 28,
   "metadata": {},
   "outputs": [],
   "source": [
    "text_cood = {\n",
    "    '$0.75': [[252,393,266,393,266,405,252,405]],\n",
    "    '$2.24': [[567,398,582,398,582,407,567,407]],\n",
    "    '$1.25': [[381,569,392,569,392,579,381,579], [240,738,251,738,251,748,240,748]],\n",
    "    '$2.50': [[552,748,578,749,578,756,552,755]],\n",
    "    '$3.00': [[334,906,360,906,360,911,334,911]]\n",
    "}"
   ]
  },
  {
   "cell_type": "code",
   "execution_count": 29,
   "metadata": {},
   "outputs": [],
   "source": [
    "def text_cood_four(text_cood):\n",
    "    dict_text = {}\n",
    "    for key in text_cood.keys():\n",
    "        cood_of_text = []\n",
    "        l = text_cood[key]\n",
    "        for i in range(len(l)):\n",
    "            cood_of_single_text = [max(l[i][0], l[i][6]), max(l[i][1], l[i][3]), max(l[i][2], l[i][4]), max(l[i][5], l[i][7])]\n",
    "            cood_of_text.append(cood_of_single_text)\n",
    "            \n",
    "        dict_text[key] = cood_of_text\n",
    "    return dict_text"
   ]
  },
  {
   "cell_type": "code",
   "execution_count": 30,
   "metadata": {},
   "outputs": [],
   "source": [
    "text_act_four = text_cood_four(text_cood)"
   ]
  },
  {
   "cell_type": "code",
   "execution_count": 31,
   "metadata": {},
   "outputs": [
    {
     "data": {
      "text/plain": [
       "{'$0.75': [[252, 393, 266, 405]],\n",
       " '$2.24': [[567, 398, 582, 407]],\n",
       " '$1.25': [[381, 569, 392, 579], [240, 738, 251, 748]],\n",
       " '$2.50': [[552, 749, 578, 756]],\n",
       " '$3.00': [[334, 906, 360, 911]]}"
      ]
     },
     "execution_count": 31,
     "metadata": {},
     "output_type": "execute_result"
    }
   ],
   "source": [
    "text_cood_four(text_cood)"
   ]
  },
  {
   "cell_type": "code",
   "execution_count": 32,
   "metadata": {},
   "outputs": [],
   "source": [
    "class Point: \n",
    "    def __init__(self, x, y): \n",
    "        self.x = x \n",
    "        self.y = y"
   ]
  },
  {
   "cell_type": "code",
   "execution_count": 33,
   "metadata": {},
   "outputs": [
    {
     "data": {
      "text/plain": [
       "{'$0.75': [[14.0, 14.0]],\n",
       " '$2.24': [[15.0, 15.0]],\n",
       " '$1.25': [[11.0, 11.0], [11.0, 11.0]],\n",
       " '$2.50': [[26.019223662515376, 26.019223662515376]],\n",
       " '$3.00': [[26.0, 26.0]]}"
      ]
     },
     "execution_count": 33,
     "metadata": {},
     "output_type": "execute_result"
    }
   ],
   "source": [
    "calc_length(text_cood)"
   ]
  },
  {
   "cell_type": "code",
   "execution_count": 34,
   "metadata": {},
   "outputs": [],
   "source": [
    "def doOverlap(l1, r1, l2, r2): \n",
    "      \n",
    "    # If one rectangle is on left side of other \n",
    "    if(l1.x > r2.x or l2.x > r1.x): \n",
    "        return False\n",
    "  \n",
    "    # If one rectangle is above other \n",
    "    if(l1.y < r2.y or l2.y < r1.y): \n",
    "        return False\n",
    "  \n",
    "    return True"
   ]
  },
  {
   "cell_type": "code",
   "execution_count": 81,
   "metadata": {},
   "outputs": [],
   "source": [
    "def overlap_area(l1, r1, l2, r2):\n",
    "\n",
    "    # Length of intersecting part i.e start from max(l1.x, l2.x) of x-coordinate and end at min(r1.x, r2.x) x-coordinate by subtracting start from end we get required lengths\n",
    "    if (doOverlap(l1, r1, l2, r2)):\n",
    "        x_left = max(l1.x, l2.x)\n",
    "        y_top = max(l1.y, l2.y)\n",
    "        x_right = min(r1.x, r2.x)\n",
    "        y_bottom = min(r1.y, r2.y)\n",
    "        areaI = (x_right - x_left) * (y_bottom - y_top)\n",
    "        return (areaI)\n",
    "    else:\n",
    "        areaI = 0\n",
    "        return areaI"
   ]
  },
  {
   "cell_type": "code",
   "execution_count": 84,
   "metadata": {},
   "outputs": [],
   "source": [
    "def check_overlap(text_cood_four, res_cood):\n",
    "    dict_area = {}\n",
    "    check = []\n",
    "    for rack_key in res_cood.keys():\n",
    "        l = []\n",
    "        l_rack = res_cood[rack_key]\n",
    "        for i in range(len(l_rack)):\n",
    "            l1 = Point(l_rack[i][0], l_rack[i][3])\n",
    "            r1 = Point(l_rack[i][2], l_rack[i][1])\n",
    "            for text_key in text_cood_four.keys():\n",
    "                l_text = text_cood_four[text_key]\n",
    "                for i in range(len(l_text)):\n",
    "                    l2 = Point(l_text[i][0], l_text[i][3])\n",
    "                    r2 = Point(l_text[i][2], l_text[i][1])\n",
    "                    area_overlap = overlap_area(l1, r1, l2, r2)\n",
    "                    l.append(area_overlap)\n",
    "        dict_area[rack_key] = l\n",
    "    return dict_area"
   ]
  },
  {
   "cell_type": "code",
   "execution_count": 85,
   "metadata": {},
   "outputs": [
    {
     "data": {
      "text/plain": [
       "{'puffed_wheat.png': [0, 0, 0, 0, 0, 0],\n",
       " 'nature_promise_raisin.png': [0, 0, 0, 0, 0, 0],\n",
       " 'nature_promise_nut.png': [0, 0, 0, 0, 0, 0],\n",
       " 'puffed_rice.png': [0, 0, 0, 0, 0, 0],\n",
       " 'shredded_wheat.png': [0, 0, 0, 0, 0, 0, 0, -267.79280405107215, 0, 0, 0, 0],\n",
       " 'oats.png': [-252.26044426705823, 0, 0, 0, 0, 0],\n",
       " 'chocos_125g.png': [0, 0, 0, 0, 0, 0, 0, 0, 0, 0, 0, -494]}"
      ]
     },
     "execution_count": 85,
     "metadata": {},
     "output_type": "execute_result"
    }
   ],
   "source": [
    "check_overlap(text_act_four, res_cood)"
   ]
  },
  {
   "cell_type": "code",
   "execution_count": 1,
   "metadata": {},
   "outputs": [],
   "source": [
    "from PIL import Image "
   ]
  },
  {
   "cell_type": "code",
   "execution_count": 3,
   "metadata": {},
   "outputs": [],
   "source": [
    "# [[[194, 388],[194, 415.7091165302846],[293, 417.96637365758306],[293, 390]]]\n",
    "im = Image.open('C:/Ahold/latest46.jpg').convert('L')\n",
    "im = im.crop((558.2, 1386, 675.8, 1456.2))\n",
    "im.save('C:/Ahold/test.jpg')"
   ]
  },
  {
   "cell_type": "code",
   "execution_count": 1,
   "metadata": {},
   "outputs": [
    {
     "data": {
      "text/plain": [
       "True"
      ]
     },
     "execution_count": 1,
     "metadata": {},
     "output_type": "execute_result"
    }
   ],
   "source": [
    "import cv2\n",
    "\n",
    "image = cv2.imread('C:/Ahold/latest46.jpg')\n",
    "image2 = cv2.rectangle(image,(558, 1386),(675, 1456),(0,255,0),2)\n",
    "cv2.imwrite('image2.jpg', image2)"
   ]
  },
  {
   "cell_type": "code",
   "execution_count": 76,
   "metadata": {},
   "outputs": [],
   "source": [
    "def get_iou(bb1, bb2):\n",
    "    \"\"\"\n",
    "    Calculate the Intersection over Union (IoU) of two bounding boxes.\n",
    "\n",
    "    Parameters\n",
    "    ----------\n",
    "    bb1 : dict\n",
    "        Keys: {'x1', 'x2', 'y1', 'y2'}\n",
    "        The (x1, y1) position is at the top left corner,\n",
    "        the (x2, y2) position is at the bottom right corner\n",
    "    bb2 : dict\n",
    "        Keys: {'x1', 'x2', 'y1', 'y2'}\n",
    "        The (x, y) position is at the top left corner,\n",
    "        the (x2, y2) position is at the bottom right corner\n",
    "\n",
    "    Returns\n",
    "    -------\n",
    "    float\n",
    "        in [0, 1]\n",
    "    \"\"\"\n",
    "    assert bb1['x1'] < bb1['x2']\n",
    "    assert bb1['y1'] < bb1['y2']\n",
    "    assert bb2['x1'] < bb2['x2']\n",
    "    assert bb2['y1'] < bb2['y2']\n",
    "\n",
    "    # determine the coordinates of the intersection rectangle\n",
    "    x_left = max(bb1['x1'], bb2['x1'])\n",
    "    y_top = max(bb1['y1'], bb2['y1'])\n",
    "    x_right = min(bb1['x2'], bb2['x2'])\n",
    "    y_bottom = min(bb1['y2'], bb2['y2'])\n",
    "\n",
    "    print(x_right < x_left)\n",
    "    print(y_bottom < y_top)\n",
    "    if x_right < x_left or y_bottom < y_top:\n",
    "        return 0.0\n",
    "\n",
    "    # The intersection of two axis-aligned bounding boxes is always an\n",
    "    # axis-aligned bounding box\n",
    "    intersection_area = (x_right - x_left) * (y_bottom - y_top)\n",
    "    print(intersection_area)\n",
    "\n",
    "    # compute the area of both AABBs\n",
    "    bb1_area = (bb1['x2'] - bb1['x1']) * (bb1['y2'] - bb1['y1'])\n",
    "    bb2_area = (bb2['x2'] - bb2['x1']) * (bb2['y2'] - bb2['y1'])\n",
    "\n",
    "    # compute the intersection over union by taking the intersection\n",
    "    # area and dividing it by the sum of prediction + ground-truth\n",
    "    # areas - the interesection area\n",
    "    iou = intersection_area / float(bb1_area + bb2_area - intersection_area)\n",
    "    assert iou >= 0.0\n",
    "    assert iou <= 1.0\n",
    "    return iou"
   ]
  },
  {
   "cell_type": "code",
   "execution_count": 77,
   "metadata": {},
   "outputs": [
    {
     "name": "stdout",
     "output_type": "stream",
     "text": [
      "False\n",
      "False\n",
      "168\n"
     ]
    },
    {
     "data": {
      "text/plain": [
       "0.0941787596807074"
      ]
     },
     "execution_count": 77,
     "metadata": {},
     "output_type": "execute_result"
    }
   ],
   "source": [
    "bb1 = {\n",
    "    'x1': 194,\n",
    "    'y1': 390,\n",
    "    'x2': 293,\n",
    "    'y2': 408.01860316193273\n",
    "}\n",
    "bb2 = {\n",
    "    'x1': 252,\n",
    "    'y1': 393,\n",
    "    'x2': 266,\n",
    "    'y2': 405\n",
    "}\n",
    "get_iou(bb1,bb2)"
   ]
  },
  {
   "cell_type": "code",
   "execution_count": 94,
   "metadata": {},
   "outputs": [
    {
     "name": "stdout",
     "output_type": "stream",
     "text": [
      "0.0\n"
     ]
    }
   ],
   "source": [
    "from shapely.geometry import Polygon\n",
    "\n",
    "\n",
    "def calculate_iou(box_1, box_2):\n",
    "    poly_1 = Polygon(box_1)\n",
    "    poly_2 = Polygon(box_2)\n",
    "    iou = poly_1.intersection(poly_2).area\n",
    "    return iou\n",
    "\n",
    "\n",
    "box_1 = [[194, 388], [194, 405.8528536034048], [293, 408.01860316193273], [293, 390]]\n",
    "box_2 = [[240,738], [251,738], [251,748], [240,748]]\n",
    "\n",
    "print(calculate_iou(box_1, box_2))"
   ]
  },
  {
   "cell_type": "code",
   "execution_count": null,
   "metadata": {},
   "outputs": [],
   "source": []
  }
 ],
 "metadata": {
  "kernelspec": {
   "display_name": "Python 3",
   "language": "python",
   "name": "python3"
  },
  "language_info": {
   "codemirror_mode": {
    "name": "ipython",
    "version": 3
   },
   "file_extension": ".py",
   "mimetype": "text/x-python",
   "name": "python",
   "nbconvert_exporter": "python",
   "pygments_lexer": "ipython3",
   "version": "3.7.6"
  }
 },
 "nbformat": 4,
 "nbformat_minor": 4
}
