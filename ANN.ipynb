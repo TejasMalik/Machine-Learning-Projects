{
 "cells": [
  {
   "cell_type": "code",
   "execution_count": 18,
   "metadata": {},
   "outputs": [],
   "source": [
    "import numpy as np\n",
    "import pandas as pd\n",
    "import matplotlib.pyplot as plt"
   ]
  },
  {
   "cell_type": "code",
   "execution_count": 19,
   "metadata": {},
   "outputs": [],
   "source": [
    "dataset = pd.read_csv('D:/Churn_Modelling.csv')\n",
    "x = dataset.iloc[:, 3:13].values\n",
    "y = dataset.iloc[:, 13].values"
   ]
  },
  {
   "cell_type": "code",
   "execution_count": 20,
   "metadata": {},
   "outputs": [
    {
     "data": {
      "text/plain": [
       "array([[619, 'France', 'Female', ..., 1, 1, 101348.88],\n",
       "       [608, 'Spain', 'Female', ..., 0, 1, 112542.58],\n",
       "       [502, 'France', 'Female', ..., 1, 0, 113931.57],\n",
       "       ...,\n",
       "       [709, 'France', 'Female', ..., 0, 1, 42085.58],\n",
       "       [772, 'Germany', 'Male', ..., 1, 0, 92888.52],\n",
       "       [792, 'France', 'Female', ..., 1, 0, 38190.78]], dtype=object)"
      ]
     },
     "execution_count": 20,
     "metadata": {},
     "output_type": "execute_result"
    }
   ],
   "source": [
    "x"
   ]
  },
  {
   "cell_type": "code",
   "execution_count": 21,
   "metadata": {},
   "outputs": [
    {
     "data": {
      "text/plain": [
       "array([1, 0, 1, ..., 1, 1, 0], dtype=int64)"
      ]
     },
     "execution_count": 21,
     "metadata": {},
     "output_type": "execute_result"
    }
   ],
   "source": [
    "y"
   ]
  },
  {
   "cell_type": "code",
   "execution_count": 22,
   "metadata": {},
   "outputs": [
    {
     "name": "stderr",
     "output_type": "stream",
     "text": [
      "C:\\ProgramData\\Anaconda3\\lib\\site-packages\\sklearn\\preprocessing\\_encoders.py:371: FutureWarning: The handling of integer data will change in version 0.22. Currently, the categories are determined based on the range [0, max(values)], while in the future they will be determined based on the unique values.\n",
      "If you want the future behaviour and silence this warning, you can specify \"categories='auto'\".\n",
      "In case you used a LabelEncoder before this OneHotEncoder to convert the categories to integers, then you can now use the OneHotEncoder directly.\n",
      "  warnings.warn(msg, FutureWarning)\n",
      "C:\\ProgramData\\Anaconda3\\lib\\site-packages\\sklearn\\preprocessing\\_encoders.py:392: DeprecationWarning: The 'categorical_features' keyword is deprecated in version 0.20 and will be removed in 0.22. You can use the ColumnTransformer instead.\n",
      "  \"use the ColumnTransformer instead.\", DeprecationWarning)\n"
     ]
    }
   ],
   "source": [
    "from sklearn.preprocessing import LabelEncoder, OneHotEncoder\n",
    "labelEncoder_x_1 = LabelEncoder()\n",
    "labelEncoder_x_2 = LabelEncoder()\n",
    "x[:, 1] = labelEncoder_x_1.fit_transform(x[:, 1])\n",
    "x[:, 2] = labelEncoder_x_2.fit_transform(x[:, 2])\n",
    "oneHotEncoder = OneHotEncoder(categorical_features=[1])\n",
    "x = oneHotEncoder.fit_transform(x).toarray()\n",
    "x = x[:, 1:]"
   ]
  },
  {
   "cell_type": "code",
   "execution_count": 23,
   "metadata": {
    "scrolled": true
   },
   "outputs": [
    {
     "data": {
      "text/plain": [
       "array([[0.0000000e+00, 0.0000000e+00, 6.1900000e+02, ..., 1.0000000e+00,\n",
       "        1.0000000e+00, 1.0134888e+05],\n",
       "       [0.0000000e+00, 1.0000000e+00, 6.0800000e+02, ..., 0.0000000e+00,\n",
       "        1.0000000e+00, 1.1254258e+05],\n",
       "       [0.0000000e+00, 0.0000000e+00, 5.0200000e+02, ..., 1.0000000e+00,\n",
       "        0.0000000e+00, 1.1393157e+05],\n",
       "       ...,\n",
       "       [0.0000000e+00, 0.0000000e+00, 7.0900000e+02, ..., 0.0000000e+00,\n",
       "        1.0000000e+00, 4.2085580e+04],\n",
       "       [1.0000000e+00, 0.0000000e+00, 7.7200000e+02, ..., 1.0000000e+00,\n",
       "        0.0000000e+00, 9.2888520e+04],\n",
       "       [0.0000000e+00, 0.0000000e+00, 7.9200000e+02, ..., 1.0000000e+00,\n",
       "        0.0000000e+00, 3.8190780e+04]])"
      ]
     },
     "execution_count": 23,
     "metadata": {},
     "output_type": "execute_result"
    }
   ],
   "source": [
    "x"
   ]
  },
  {
   "cell_type": "code",
   "execution_count": 24,
   "metadata": {},
   "outputs": [],
   "source": [
    "from sklearn.model_selection import train_test_split\n",
    "x_train, x_test, y_train, y_test = train_test_split(x,y, test_size=0.2, random_state=0)"
   ]
  },
  {
   "cell_type": "code",
   "execution_count": 25,
   "metadata": {},
   "outputs": [],
   "source": [
    "from sklearn.preprocessing import StandardScaler\n",
    "sc = StandardScaler()\n",
    "x_train = sc.fit_transform(x_train)\n",
    "x_test = sc.transform(x_test)"
   ]
  },
  {
   "cell_type": "code",
   "execution_count": 26,
   "metadata": {},
   "outputs": [],
   "source": [
    "import keras\n",
    "from keras.models import Sequential\n",
    "from keras.layers import Dense"
   ]
  },
  {
   "cell_type": "code",
   "execution_count": 27,
   "metadata": {},
   "outputs": [],
   "source": [
    "classifier = Sequential()"
   ]
  },
  {
   "cell_type": "code",
   "execution_count": 28,
   "metadata": {},
   "outputs": [
    {
     "name": "stderr",
     "output_type": "stream",
     "text": [
      "C:\\ProgramData\\Anaconda3\\lib\\site-packages\\ipykernel_launcher.py:1: UserWarning: Update your `Dense` call to the Keras 2 API: `Dense(activation=\"relu\", input_dim=11, units=6, kernel_initializer=\"uniform\")`\n",
      "  \"\"\"Entry point for launching an IPython kernel.\n"
     ]
    }
   ],
   "source": [
    "classifier.add(Dense(output_dim = 6, init = 'uniform', activation = 'relu', input_dim = 11))"
   ]
  },
  {
   "cell_type": "code",
   "execution_count": 29,
   "metadata": {},
   "outputs": [
    {
     "name": "stderr",
     "output_type": "stream",
     "text": [
      "C:\\ProgramData\\Anaconda3\\lib\\site-packages\\ipykernel_launcher.py:1: UserWarning: Update your `Dense` call to the Keras 2 API: `Dense(activation=\"relu\", units=6, kernel_initializer=\"uniform\")`\n",
      "  \"\"\"Entry point for launching an IPython kernel.\n"
     ]
    }
   ],
   "source": [
    "classifier.add(Dense(output_dim = 6, init = 'uniform', activation = 'relu'))"
   ]
  },
  {
   "cell_type": "code",
   "execution_count": 30,
   "metadata": {},
   "outputs": [
    {
     "name": "stderr",
     "output_type": "stream",
     "text": [
      "C:\\ProgramData\\Anaconda3\\lib\\site-packages\\ipykernel_launcher.py:1: UserWarning: Update your `Dense` call to the Keras 2 API: `Dense(activation=\"sigmoid\", units=1, kernel_initializer=\"uniform\")`\n",
      "  \"\"\"Entry point for launching an IPython kernel.\n"
     ]
    }
   ],
   "source": [
    "classifier.add(Dense(output_dim = 1, init = 'uniform', activation = 'sigmoid'))"
   ]
  },
  {
   "cell_type": "code",
   "execution_count": 31,
   "metadata": {},
   "outputs": [],
   "source": [
    "classifier.compile(optimizer='adam', loss='binary_crossentropy', metrics=['accuracy'])"
   ]
  },
  {
   "cell_type": "code",
   "execution_count": 32,
   "metadata": {
    "scrolled": true
   },
   "outputs": [
    {
     "name": "stdout",
     "output_type": "stream",
     "text": [
      "Epoch 1/100\n",
      "8000/8000 [==============================] - 2s 292us/step - loss: 0.4819 - accuracy: 0.7960\n",
      "Epoch 2/100\n",
      "8000/8000 [==============================] - 2s 223us/step - loss: 0.4283 - accuracy: 0.7960\n",
      "Epoch 3/100\n",
      "8000/8000 [==============================] - 2s 235us/step - loss: 0.4207 - accuracy: 0.8099\n",
      "Epoch 4/100\n",
      "8000/8000 [==============================] - 2s 230us/step - loss: 0.4152 - accuracy: 0.8321\n",
      "Epoch 5/100\n",
      "8000/8000 [==============================] - 2s 231us/step - loss: 0.4096 - accuracy: 0.8313\n",
      "Epoch 6/100\n",
      "8000/8000 [==============================] - 2s 252us/step - loss: 0.4075 - accuracy: 0.8317\n",
      "Epoch 7/100\n",
      "8000/8000 [==============================] - 2s 219us/step - loss: 0.4048 - accuracy: 0.8351\n",
      "Epoch 8/100\n",
      "8000/8000 [==============================] - 2s 193us/step - loss: 0.4026 - accuracy: 0.8349\n",
      "Epoch 9/100\n",
      "8000/8000 [==============================] - 2s 211us/step - loss: 0.4013 - accuracy: 0.8331\n",
      "Epoch 10/100\n",
      "8000/8000 [==============================] - 2s 246us/step - loss: 0.4007 - accuracy: 0.8355\n",
      "Epoch 11/100\n",
      "8000/8000 [==============================] - 2s 286us/step - loss: 0.3999 - accuracy: 0.8346\n",
      "Epoch 12/100\n",
      "8000/8000 [==============================] - 2s 214us/step - loss: 0.3992 - accuracy: 0.8342\n",
      "Epoch 13/100\n",
      "8000/8000 [==============================] - 1s 183us/step - loss: 0.3986 - accuracy: 0.8344\n",
      "Epoch 14/100\n",
      "8000/8000 [==============================] - 2s 198us/step - loss: 0.3972 - accuracy: 0.8351\n",
      "Epoch 15/100\n",
      "8000/8000 [==============================] - 2s 224us/step - loss: 0.3972 - accuracy: 0.8353\n",
      "Epoch 16/100\n",
      "8000/8000 [==============================] - 2s 221us/step - loss: 0.3966 - accuracy: 0.8331\n",
      "Epoch 17/100\n",
      "8000/8000 [==============================] - 2s 210us/step - loss: 0.3967 - accuracy: 0.8347\n",
      "Epoch 18/100\n",
      "8000/8000 [==============================] - 2s 212us/step - loss: 0.3965 - accuracy: 0.8347\n",
      "Epoch 19/100\n",
      "8000/8000 [==============================] - 2s 220us/step - loss: 0.3959 - accuracy: 0.8338\n",
      "Epoch 20/100\n",
      "8000/8000 [==============================] - 2s 219us/step - loss: 0.3959 - accuracy: 0.8340\n",
      "Epoch 21/100\n",
      "8000/8000 [==============================] - 2s 211us/step - loss: 0.3949 - accuracy: 0.8342\n",
      "Epoch 22/100\n",
      "8000/8000 [==============================] - 2s 195us/step - loss: 0.3957 - accuracy: 0.8364\n",
      "Epoch 23/100\n",
      "8000/8000 [==============================] - 2s 207us/step - loss: 0.3954 - accuracy: 0.8350\n",
      "Epoch 24/100\n",
      "8000/8000 [==============================] - 2s 235us/step - loss: 0.3951 - accuracy: 0.8334\n",
      "Epoch 25/100\n",
      "8000/8000 [==============================] - 2s 239us/step - loss: 0.3954 - accuracy: 0.8349\n",
      "Epoch 26/100\n",
      "8000/8000 [==============================] - 2s 218us/step - loss: 0.3951 - accuracy: 0.8354\n",
      "Epoch 27/100\n",
      "8000/8000 [==============================] - 2s 217us/step - loss: 0.3945 - accuracy: 0.8346\n",
      "Epoch 28/100\n",
      "8000/8000 [==============================] - 2s 188us/step - loss: 0.3948 - accuracy: 0.8359\n",
      "Epoch 29/100\n",
      "8000/8000 [==============================] - 2s 215us/step - loss: 0.3949 - accuracy: 0.8338\n",
      "Epoch 30/100\n",
      "8000/8000 [==============================] - 2s 202us/step - loss: 0.3940 - accuracy: 0.8359\n",
      "Epoch 31/100\n",
      "8000/8000 [==============================] - 2s 218us/step - loss: 0.3946 - accuracy: 0.8354\n",
      "Epoch 32/100\n",
      "8000/8000 [==============================] - 2s 216us/step - loss: 0.3947 - accuracy: 0.8367\n",
      "Epoch 33/100\n",
      "8000/8000 [==============================] - 2s 215us/step - loss: 0.3945 - accuracy: 0.8359\n",
      "Epoch 34/100\n",
      "8000/8000 [==============================] - 2s 251us/step - loss: 0.3938 - accuracy: 0.8357\n",
      "Epoch 35/100\n",
      "8000/8000 [==============================] - 2s 197us/step - loss: 0.3949 - accuracy: 0.8357\n",
      "Epoch 36/100\n",
      "8000/8000 [==============================] - 2s 207us/step - loss: 0.3945 - accuracy: 0.8344\n",
      "Epoch 37/100\n",
      "8000/8000 [==============================] - 2s 208us/step - loss: 0.3936 - accuracy: 0.8364\n",
      "Epoch 38/100\n",
      "8000/8000 [==============================] - 2s 219us/step - loss: 0.3947 - accuracy: 0.8354\n",
      "Epoch 39/100\n",
      "8000/8000 [==============================] - 2s 215us/step - loss: 0.3941 - accuracy: 0.8365\n",
      "Epoch 40/100\n",
      "8000/8000 [==============================] - 2s 215us/step - loss: 0.3934 - accuracy: 0.8376\n",
      "Epoch 41/100\n",
      "8000/8000 [==============================] - 2s 221us/step - loss: 0.3946 - accuracy: 0.8350\n",
      "Epoch 42/100\n",
      "8000/8000 [==============================] - 2s 196us/step - loss: 0.3938 - accuracy: 0.8363\n",
      "Epoch 43/100\n",
      "8000/8000 [==============================] - 2s 243us/step - loss: 0.3935 - accuracy: 0.8360\n",
      "Epoch 44/100\n",
      "8000/8000 [==============================] - 2s 217us/step - loss: 0.3939 - accuracy: 0.8363\n",
      "Epoch 45/100\n",
      "8000/8000 [==============================] - 2s 223us/step - loss: 0.3942 - accuracy: 0.8369\n",
      "Epoch 46/100\n",
      "8000/8000 [==============================] - 2s 219us/step - loss: 0.3938 - accuracy: 0.8351\n",
      "Epoch 47/100\n",
      "8000/8000 [==============================] - 2s 311us/step - loss: 0.3936 - accuracy: 0.8359\n",
      "Epoch 48/100\n",
      "8000/8000 [==============================] - 2s 277us/step - loss: 0.3943 - accuracy: 0.8359\n",
      "Epoch 49/100\n",
      "8000/8000 [==============================] - 2s 201us/step - loss: 0.3938 - accuracy: 0.8360\n",
      "Epoch 50/100\n",
      "8000/8000 [==============================] - 2s 206us/step - loss: 0.3932 - accuracy: 0.8359\n",
      "Epoch 51/100\n",
      "8000/8000 [==============================] - 2s 230us/step - loss: 0.3933 - accuracy: 0.8366\n",
      "Epoch 52/100\n",
      "8000/8000 [==============================] - 2s 246us/step - loss: 0.3928 - accuracy: 0.8372\n",
      "Epoch 53/100\n",
      "8000/8000 [==============================] - 2s 218us/step - loss: 0.3921 - accuracy: 0.8371\n",
      "Epoch 54/100\n",
      "8000/8000 [==============================] - 2s 218us/step - loss: 0.3908 - accuracy: 0.8394\n",
      "Epoch 55/100\n",
      "8000/8000 [==============================] - 2s 236us/step - loss: 0.3891 - accuracy: 0.8394\n",
      "Epoch 56/100\n",
      "8000/8000 [==============================] - 2s 201us/step - loss: 0.3880 - accuracy: 0.8386\n",
      "Epoch 57/100\n",
      "8000/8000 [==============================] - 2s 199us/step - loss: 0.3847 - accuracy: 0.8409\n",
      "Epoch 58/100\n",
      "8000/8000 [==============================] - 2s 209us/step - loss: 0.3823 - accuracy: 0.8385\n",
      "Epoch 59/100\n",
      "8000/8000 [==============================] - 2s 219us/step - loss: 0.3802 - accuracy: 0.8391\n",
      "Epoch 60/100\n",
      "8000/8000 [==============================] - 2s 230us/step - loss: 0.3761 - accuracy: 0.8390\n",
      "Epoch 61/100\n",
      "8000/8000 [==============================] - 2s 238us/step - loss: 0.3734 - accuracy: 0.8386\n",
      "Epoch 62/100\n",
      "8000/8000 [==============================] - 2s 209us/step - loss: 0.3716 - accuracy: 0.8430\n",
      "Epoch 63/100\n",
      "8000/8000 [==============================] - 2s 213us/step - loss: 0.3688 - accuracy: 0.8426\n",
      "Epoch 64/100\n",
      "8000/8000 [==============================] - 2s 209us/step - loss: 0.3645 - accuracy: 0.8479\n",
      "Epoch 65/100\n",
      "8000/8000 [==============================] - 2s 198us/step - loss: 0.3619 - accuracy: 0.8500\n",
      "Epoch 66/100\n",
      "8000/8000 [==============================] - 2s 203us/step - loss: 0.3584 - accuracy: 0.8530\n",
      "Epoch 67/100\n",
      "8000/8000 [==============================] - 2s 217us/step - loss: 0.3566 - accuracy: 0.8531\n",
      "Epoch 68/100\n",
      "8000/8000 [==============================] - 2s 215us/step - loss: 0.3554 - accuracy: 0.8558\n",
      "Epoch 69/100\n",
      "8000/8000 [==============================] - 2s 215us/step - loss: 0.3546 - accuracy: 0.8577\n",
      "Epoch 70/100\n",
      "8000/8000 [==============================] - 2s 260us/step - loss: 0.3528 - accuracy: 0.8572\n",
      "Epoch 71/100\n",
      "8000/8000 [==============================] - 2s 237us/step - loss: 0.3526 - accuracy: 0.8590\n",
      "Epoch 72/100\n",
      "8000/8000 [==============================] - 2s 211us/step - loss: 0.3510 - accuracy: 0.8587\n",
      "Epoch 73/100\n",
      "8000/8000 [==============================] - 2s 211us/step - loss: 0.3513 - accuracy: 0.8601\n",
      "Epoch 74/100\n",
      "8000/8000 [==============================] - 2s 230us/step - loss: 0.3515 - accuracy: 0.8601\n",
      "Epoch 75/100\n",
      "8000/8000 [==============================] - 2s 218us/step - loss: 0.3501 - accuracy: 0.8595\n",
      "Epoch 76/100\n",
      "8000/8000 [==============================] - 2s 219us/step - loss: 0.3499 - accuracy: 0.8600\n",
      "Epoch 77/100\n",
      "8000/8000 [==============================] - 2s 217us/step - loss: 0.3494 - accuracy: 0.8615\n",
      "Epoch 78/100\n",
      "8000/8000 [==============================] - 2s 231us/step - loss: 0.3493 - accuracy: 0.8596\n",
      "Epoch 79/100\n",
      "8000/8000 [==============================] - 2s 258us/step - loss: 0.3493 - accuracy: 0.8610\n",
      "Epoch 80/100\n",
      "8000/8000 [==============================] - 2s 237us/step - loss: 0.3486 - accuracy: 0.8606\n",
      "Epoch 81/100\n",
      "8000/8000 [==============================] - 2s 234us/step - loss: 0.3478 - accuracy: 0.8604\n",
      "Epoch 82/100\n",
      "8000/8000 [==============================] - 2s 257us/step - loss: 0.3485 - accuracy: 0.8597\n",
      "Epoch 83/100\n",
      "8000/8000 [==============================] - 2s 295us/step - loss: 0.3472 - accuracy: 0.8629\n",
      "Epoch 84/100\n",
      "8000/8000 [==============================] - 2s 226us/step - loss: 0.3484 - accuracy: 0.8594\n",
      "Epoch 85/100\n",
      "8000/8000 [==============================] - 2s 221us/step - loss: 0.3477 - accuracy: 0.8590\n",
      "Epoch 86/100\n",
      "8000/8000 [==============================] - 2s 191us/step - loss: 0.3480 - accuracy: 0.8602\n",
      "Epoch 87/100\n",
      "8000/8000 [==============================] - 2s 234us/step - loss: 0.3472 - accuracy: 0.8606\n",
      "Epoch 88/100\n",
      "8000/8000 [==============================] - 2s 220us/step - loss: 0.3468 - accuracy: 0.8612\n",
      "Epoch 89/100\n",
      "8000/8000 [==============================] - 2s 212us/step - loss: 0.3471 - accuracy: 0.8604\n",
      "Epoch 90/100\n",
      "8000/8000 [==============================] - 2s 206us/step - loss: 0.3464 - accuracy: 0.8619\n",
      "Epoch 91/100\n",
      "8000/8000 [==============================] - 2s 211us/step - loss: 0.3464 - accuracy: 0.8636\n",
      "Epoch 92/100\n",
      "8000/8000 [==============================] - 2s 194us/step - loss: 0.3461 - accuracy: 0.8621\n",
      "Epoch 93/100\n",
      "8000/8000 [==============================] - 2s 197us/step - loss: 0.3464 - accuracy: 0.8633\n",
      "Epoch 94/100\n",
      "8000/8000 [==============================] - 2s 202us/step - loss: 0.3452 - accuracy: 0.8616\n",
      "Epoch 95/100\n",
      "8000/8000 [==============================] - 2s 212us/step - loss: 0.3456 - accuracy: 0.8610\n",
      "Epoch 96/100\n",
      "8000/8000 [==============================] - 2s 222us/step - loss: 0.3458 - accuracy: 0.8635\n",
      "Epoch 97/100\n",
      "8000/8000 [==============================] - 2s 232us/step - loss: 0.3462 - accuracy: 0.8616\n",
      "Epoch 98/100\n",
      "8000/8000 [==============================] - 2s 209us/step - loss: 0.3456 - accuracy: 0.8597\n",
      "Epoch 99/100\n",
      "8000/8000 [==============================] - 2s 206us/step - loss: 0.3453 - accuracy: 0.8625\n",
      "Epoch 100/100\n",
      "8000/8000 [==============================] - 2s 197us/step - loss: 0.3451 - accuracy: 0.8605\n"
     ]
    },
    {
     "data": {
      "text/plain": [
       "<keras.callbacks.callbacks.History at 0x1db2ac4ca90>"
      ]
     },
     "execution_count": 32,
     "metadata": {},
     "output_type": "execute_result"
    }
   ],
   "source": [
    "classifier.fit(x_train, y_train, batch_size=10, epochs=100)"
   ]
  },
  {
   "cell_type": "code",
   "execution_count": 33,
   "metadata": {},
   "outputs": [],
   "source": [
    "y_pred = classifier.predict(x_test)\n",
    "y_pred = (y_pred > 0.5)"
   ]
  },
  {
   "cell_type": "code",
   "execution_count": 34,
   "metadata": {},
   "outputs": [],
   "source": [
    "from sklearn.metrics import confusion_matrix\n",
    "cm = confusion_matrix(y_test, y_pred)"
   ]
  },
  {
   "cell_type": "code",
   "execution_count": 35,
   "metadata": {},
   "outputs": [
    {
     "data": {
      "text/plain": [
       "array([[1491,  104],\n",
       "       [ 184,  221]], dtype=int64)"
      ]
     },
     "execution_count": 35,
     "metadata": {},
     "output_type": "execute_result"
    }
   ],
   "source": [
    "cm"
   ]
  },
  {
   "cell_type": "code",
   "execution_count": 39,
   "metadata": {},
   "outputs": [
    {
     "data": {
      "text/plain": [
       "0.856"
      ]
     },
     "execution_count": 39,
     "metadata": {},
     "output_type": "execute_result"
    }
   ],
   "source": [
    "(1491 + 221)/2000"
   ]
  },
  {
   "cell_type": "code",
   "execution_count": null,
   "metadata": {},
   "outputs": [],
   "source": []
  }
 ],
 "metadata": {
  "kernelspec": {
   "display_name": "Python 3",
   "language": "python",
   "name": "python3"
  },
  "language_info": {
   "codemirror_mode": {
    "name": "ipython",
    "version": 3
   },
   "file_extension": ".py",
   "mimetype": "text/x-python",
   "name": "python",
   "nbconvert_exporter": "python",
   "pygments_lexer": "ipython3",
   "version": "3.7.4"
  }
 },
 "nbformat": 4,
 "nbformat_minor": 2
}
