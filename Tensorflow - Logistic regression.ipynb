{
 "cells": [
  {
   "cell_type": "code",
   "execution_count": 1,
   "metadata": {},
   "outputs": [],
   "source": [
    "import tensorflow as tf\n",
    "import pandas as pd\n",
    "import numpy as np"
   ]
  },
  {
   "cell_type": "code",
   "execution_count": 2,
   "metadata": {},
   "outputs": [],
   "source": [
    "COLUMNS = ['age','workclass', 'fnlwgt', 'education', 'education_num', \n",
    "           'marital','occupation', 'relationship', 'race', 'sex', \n",
    "           'capital_gain','capital_loss','hours_week','native_country',\n",
    "           'label']"
   ]
  },
  {
   "cell_type": "code",
   "execution_count": 3,
   "metadata": {},
   "outputs": [],
   "source": [
    "df_train = pd.read_csv('D:\\Tensor Flow\\Adult.csv', skipinitialspace=True, names = COLUMNS, index_col=False)\n",
    "df_test = pd.read_csv('D:\\Tensor Flow\\Adult_Test.csv',skiprows = 1, skipinitialspace=True, names = COLUMNS, index_col=False)"
   ]
  },
  {
   "cell_type": "code",
   "execution_count": 4,
   "metadata": {},
   "outputs": [
    {
     "name": "stdout",
     "output_type": "stream",
     "text": [
      "(32561, 15) (16281, 15)\n",
      "age                int64\n",
      "workclass         object\n",
      "fnlwgt             int64\n",
      "education         object\n",
      "education_num      int64\n",
      "marital           object\n",
      "occupation        object\n",
      "relationship      object\n",
      "race              object\n",
      "sex               object\n",
      "capital_gain       int64\n",
      "capital_loss       int64\n",
      "hours_week         int64\n",
      "native_country    object\n",
      "label             object\n",
      "dtype: object\n"
     ]
    }
   ],
   "source": [
    "print(df_train.shape, df_test.shape)\n",
    "print(df_train.dtypes)"
   ]
  },
  {
   "cell_type": "code",
   "execution_count": 5,
   "metadata": {},
   "outputs": [
    {
     "data": {
      "text/html": [
       "<div>\n",
       "<style scoped>\n",
       "    .dataframe tbody tr th:only-of-type {\n",
       "        vertical-align: middle;\n",
       "    }\n",
       "\n",
       "    .dataframe tbody tr th {\n",
       "        vertical-align: top;\n",
       "    }\n",
       "\n",
       "    .dataframe thead th {\n",
       "        text-align: right;\n",
       "    }\n",
       "</style>\n",
       "<table border=\"1\" class=\"dataframe\">\n",
       "  <thead>\n",
       "    <tr style=\"text-align: right;\">\n",
       "      <th></th>\n",
       "      <th>age</th>\n",
       "      <th>workclass</th>\n",
       "      <th>fnlwgt</th>\n",
       "      <th>education</th>\n",
       "      <th>education_num</th>\n",
       "      <th>marital</th>\n",
       "      <th>occupation</th>\n",
       "      <th>relationship</th>\n",
       "      <th>race</th>\n",
       "      <th>sex</th>\n",
       "      <th>capital_gain</th>\n",
       "      <th>capital_loss</th>\n",
       "      <th>hours_week</th>\n",
       "      <th>native_country</th>\n",
       "      <th>label</th>\n",
       "    </tr>\n",
       "  </thead>\n",
       "  <tbody>\n",
       "    <tr>\n",
       "      <th>0</th>\n",
       "      <td>39</td>\n",
       "      <td>State-gov</td>\n",
       "      <td>77516</td>\n",
       "      <td>Bachelors</td>\n",
       "      <td>13</td>\n",
       "      <td>Never-married</td>\n",
       "      <td>Adm-clerical</td>\n",
       "      <td>Not-in-family</td>\n",
       "      <td>White</td>\n",
       "      <td>Male</td>\n",
       "      <td>2174</td>\n",
       "      <td>0</td>\n",
       "      <td>40</td>\n",
       "      <td>United-States</td>\n",
       "      <td>&lt;=50K</td>\n",
       "    </tr>\n",
       "    <tr>\n",
       "      <th>1</th>\n",
       "      <td>50</td>\n",
       "      <td>Self-emp-not-inc</td>\n",
       "      <td>83311</td>\n",
       "      <td>Bachelors</td>\n",
       "      <td>13</td>\n",
       "      <td>Married-civ-spouse</td>\n",
       "      <td>Exec-managerial</td>\n",
       "      <td>Husband</td>\n",
       "      <td>White</td>\n",
       "      <td>Male</td>\n",
       "      <td>0</td>\n",
       "      <td>0</td>\n",
       "      <td>13</td>\n",
       "      <td>United-States</td>\n",
       "      <td>&lt;=50K</td>\n",
       "    </tr>\n",
       "    <tr>\n",
       "      <th>2</th>\n",
       "      <td>38</td>\n",
       "      <td>Private</td>\n",
       "      <td>215646</td>\n",
       "      <td>HS-grad</td>\n",
       "      <td>9</td>\n",
       "      <td>Divorced</td>\n",
       "      <td>Handlers-cleaners</td>\n",
       "      <td>Not-in-family</td>\n",
       "      <td>White</td>\n",
       "      <td>Male</td>\n",
       "      <td>0</td>\n",
       "      <td>0</td>\n",
       "      <td>40</td>\n",
       "      <td>United-States</td>\n",
       "      <td>&lt;=50K</td>\n",
       "    </tr>\n",
       "    <tr>\n",
       "      <th>3</th>\n",
       "      <td>53</td>\n",
       "      <td>Private</td>\n",
       "      <td>234721</td>\n",
       "      <td>11th</td>\n",
       "      <td>7</td>\n",
       "      <td>Married-civ-spouse</td>\n",
       "      <td>Handlers-cleaners</td>\n",
       "      <td>Husband</td>\n",
       "      <td>Black</td>\n",
       "      <td>Male</td>\n",
       "      <td>0</td>\n",
       "      <td>0</td>\n",
       "      <td>40</td>\n",
       "      <td>United-States</td>\n",
       "      <td>&lt;=50K</td>\n",
       "    </tr>\n",
       "    <tr>\n",
       "      <th>4</th>\n",
       "      <td>28</td>\n",
       "      <td>Private</td>\n",
       "      <td>338409</td>\n",
       "      <td>Bachelors</td>\n",
       "      <td>13</td>\n",
       "      <td>Married-civ-spouse</td>\n",
       "      <td>Prof-specialty</td>\n",
       "      <td>Wife</td>\n",
       "      <td>Black</td>\n",
       "      <td>Female</td>\n",
       "      <td>0</td>\n",
       "      <td>0</td>\n",
       "      <td>40</td>\n",
       "      <td>Cuba</td>\n",
       "      <td>&lt;=50K</td>\n",
       "    </tr>\n",
       "  </tbody>\n",
       "</table>\n",
       "</div>"
      ],
      "text/plain": [
       "   age         workclass  fnlwgt  education  education_num  \\\n",
       "0   39         State-gov   77516  Bachelors             13   \n",
       "1   50  Self-emp-not-inc   83311  Bachelors             13   \n",
       "2   38           Private  215646    HS-grad              9   \n",
       "3   53           Private  234721       11th              7   \n",
       "4   28           Private  338409  Bachelors             13   \n",
       "\n",
       "              marital         occupation   relationship   race     sex  \\\n",
       "0       Never-married       Adm-clerical  Not-in-family  White    Male   \n",
       "1  Married-civ-spouse    Exec-managerial        Husband  White    Male   \n",
       "2            Divorced  Handlers-cleaners  Not-in-family  White    Male   \n",
       "3  Married-civ-spouse  Handlers-cleaners        Husband  Black    Male   \n",
       "4  Married-civ-spouse     Prof-specialty           Wife  Black  Female   \n",
       "\n",
       "   capital_gain  capital_loss  hours_week native_country  label  \n",
       "0          2174             0          40  United-States  <=50K  \n",
       "1             0             0          13  United-States  <=50K  \n",
       "2             0             0          40  United-States  <=50K  \n",
       "3             0             0          40  United-States  <=50K  \n",
       "4             0             0          40           Cuba  <=50K  "
      ]
     },
     "execution_count": 5,
     "metadata": {},
     "output_type": "execute_result"
    }
   ],
   "source": [
    "df_train.head()"
   ]
  },
  {
   "cell_type": "code",
   "execution_count": 6,
   "metadata": {},
   "outputs": [],
   "source": [
    "label = {'<=50K': 0,'>50K': 1}\n",
    "df_train.label = [label[item] for item in df_train.label]\n",
    "label_t = {'<=50K.': 0,'>50K.': 1}\n",
    "df_test.label = [label_t[item] for item in df_test.label] "
   ]
  },
  {
   "cell_type": "code",
   "execution_count": 7,
   "metadata": {
    "scrolled": true
   },
   "outputs": [
    {
     "data": {
      "text/html": [
       "<div>\n",
       "<style scoped>\n",
       "    .dataframe tbody tr th:only-of-type {\n",
       "        vertical-align: middle;\n",
       "    }\n",
       "\n",
       "    .dataframe tbody tr th {\n",
       "        vertical-align: top;\n",
       "    }\n",
       "\n",
       "    .dataframe thead th {\n",
       "        text-align: right;\n",
       "    }\n",
       "</style>\n",
       "<table border=\"1\" class=\"dataframe\">\n",
       "  <thead>\n",
       "    <tr style=\"text-align: right;\">\n",
       "      <th></th>\n",
       "      <th>age</th>\n",
       "      <th>workclass</th>\n",
       "      <th>fnlwgt</th>\n",
       "      <th>education</th>\n",
       "      <th>education_num</th>\n",
       "      <th>marital</th>\n",
       "      <th>occupation</th>\n",
       "      <th>relationship</th>\n",
       "      <th>race</th>\n",
       "      <th>sex</th>\n",
       "      <th>capital_gain</th>\n",
       "      <th>capital_loss</th>\n",
       "      <th>hours_week</th>\n",
       "      <th>native_country</th>\n",
       "      <th>label</th>\n",
       "    </tr>\n",
       "  </thead>\n",
       "  <tbody>\n",
       "    <tr>\n",
       "      <th>0</th>\n",
       "      <td>25</td>\n",
       "      <td>Private</td>\n",
       "      <td>226802</td>\n",
       "      <td>11th</td>\n",
       "      <td>7</td>\n",
       "      <td>Never-married</td>\n",
       "      <td>Machine-op-inspct</td>\n",
       "      <td>Own-child</td>\n",
       "      <td>Black</td>\n",
       "      <td>Male</td>\n",
       "      <td>0</td>\n",
       "      <td>0</td>\n",
       "      <td>40</td>\n",
       "      <td>United-States</td>\n",
       "      <td>0</td>\n",
       "    </tr>\n",
       "    <tr>\n",
       "      <th>1</th>\n",
       "      <td>38</td>\n",
       "      <td>Private</td>\n",
       "      <td>89814</td>\n",
       "      <td>HS-grad</td>\n",
       "      <td>9</td>\n",
       "      <td>Married-civ-spouse</td>\n",
       "      <td>Farming-fishing</td>\n",
       "      <td>Husband</td>\n",
       "      <td>White</td>\n",
       "      <td>Male</td>\n",
       "      <td>0</td>\n",
       "      <td>0</td>\n",
       "      <td>50</td>\n",
       "      <td>United-States</td>\n",
       "      <td>0</td>\n",
       "    </tr>\n",
       "    <tr>\n",
       "      <th>2</th>\n",
       "      <td>28</td>\n",
       "      <td>Local-gov</td>\n",
       "      <td>336951</td>\n",
       "      <td>Assoc-acdm</td>\n",
       "      <td>12</td>\n",
       "      <td>Married-civ-spouse</td>\n",
       "      <td>Protective-serv</td>\n",
       "      <td>Husband</td>\n",
       "      <td>White</td>\n",
       "      <td>Male</td>\n",
       "      <td>0</td>\n",
       "      <td>0</td>\n",
       "      <td>40</td>\n",
       "      <td>United-States</td>\n",
       "      <td>1</td>\n",
       "    </tr>\n",
       "    <tr>\n",
       "      <th>3</th>\n",
       "      <td>44</td>\n",
       "      <td>Private</td>\n",
       "      <td>160323</td>\n",
       "      <td>Some-college</td>\n",
       "      <td>10</td>\n",
       "      <td>Married-civ-spouse</td>\n",
       "      <td>Machine-op-inspct</td>\n",
       "      <td>Husband</td>\n",
       "      <td>Black</td>\n",
       "      <td>Male</td>\n",
       "      <td>7688</td>\n",
       "      <td>0</td>\n",
       "      <td>40</td>\n",
       "      <td>United-States</td>\n",
       "      <td>1</td>\n",
       "    </tr>\n",
       "    <tr>\n",
       "      <th>4</th>\n",
       "      <td>18</td>\n",
       "      <td>?</td>\n",
       "      <td>103497</td>\n",
       "      <td>Some-college</td>\n",
       "      <td>10</td>\n",
       "      <td>Never-married</td>\n",
       "      <td>?</td>\n",
       "      <td>Own-child</td>\n",
       "      <td>White</td>\n",
       "      <td>Female</td>\n",
       "      <td>0</td>\n",
       "      <td>0</td>\n",
       "      <td>30</td>\n",
       "      <td>United-States</td>\n",
       "      <td>0</td>\n",
       "    </tr>\n",
       "  </tbody>\n",
       "</table>\n",
       "</div>"
      ],
      "text/plain": [
       "   age  workclass  fnlwgt     education  education_num             marital  \\\n",
       "0   25    Private  226802          11th              7       Never-married   \n",
       "1   38    Private   89814       HS-grad              9  Married-civ-spouse   \n",
       "2   28  Local-gov  336951    Assoc-acdm             12  Married-civ-spouse   \n",
       "3   44    Private  160323  Some-college             10  Married-civ-spouse   \n",
       "4   18          ?  103497  Some-college             10       Never-married   \n",
       "\n",
       "          occupation relationship   race     sex  capital_gain  capital_loss  \\\n",
       "0  Machine-op-inspct    Own-child  Black    Male             0             0   \n",
       "1    Farming-fishing      Husband  White    Male             0             0   \n",
       "2    Protective-serv      Husband  White    Male             0             0   \n",
       "3  Machine-op-inspct      Husband  Black    Male          7688             0   \n",
       "4                  ?    Own-child  White  Female             0             0   \n",
       "\n",
       "   hours_week native_country  label  \n",
       "0          40  United-States      0  \n",
       "1          50  United-States      0  \n",
       "2          40  United-States      1  \n",
       "3          40  United-States      1  \n",
       "4          30  United-States      0  "
      ]
     },
     "execution_count": 7,
     "metadata": {},
     "output_type": "execute_result"
    }
   ],
   "source": [
    "df_test.head()"
   ]
  },
  {
   "cell_type": "code",
   "execution_count": 8,
   "metadata": {},
   "outputs": [],
   "source": [
    "df_train = df_train.replace('?', np.nan)"
   ]
  },
  {
   "cell_type": "code",
   "execution_count": 9,
   "metadata": {},
   "outputs": [],
   "source": [
    "df_train.dropna(inplace = True)"
   ]
  },
  {
   "cell_type": "code",
   "execution_count": 10,
   "metadata": {},
   "outputs": [
    {
     "name": "stdout",
     "output_type": "stream",
     "text": [
      "<class 'pandas.core.frame.DataFrame'>\n",
      "Int64Index: 30162 entries, 0 to 32560\n",
      "Data columns (total 15 columns):\n",
      "age               30162 non-null int64\n",
      "workclass         30162 non-null object\n",
      "fnlwgt            30162 non-null int64\n",
      "education         30162 non-null object\n",
      "education_num     30162 non-null int64\n",
      "marital           30162 non-null object\n",
      "occupation        30162 non-null object\n",
      "relationship      30162 non-null object\n",
      "race              30162 non-null object\n",
      "sex               30162 non-null object\n",
      "capital_gain      30162 non-null int64\n",
      "capital_loss      30162 non-null int64\n",
      "hours_week        30162 non-null int64\n",
      "native_country    30162 non-null object\n",
      "label             30162 non-null int64\n",
      "dtypes: int64(7), object(8)\n",
      "memory usage: 3.7+ MB\n"
     ]
    }
   ],
   "source": [
    "df_train.info()"
   ]
  },
  {
   "cell_type": "code",
   "execution_count": 11,
   "metadata": {},
   "outputs": [],
   "source": [
    "df_test = df_test.replace('?', np.nan)\n",
    "df_test.dropna(inplace = True)"
   ]
  },
  {
   "cell_type": "code",
   "execution_count": 12,
   "metadata": {},
   "outputs": [
    {
     "name": "stdout",
     "output_type": "stream",
     "text": [
      "<class 'pandas.core.frame.DataFrame'>\n",
      "Int64Index: 15060 entries, 0 to 16280\n",
      "Data columns (total 15 columns):\n",
      "age               15060 non-null int64\n",
      "workclass         15060 non-null object\n",
      "fnlwgt            15060 non-null int64\n",
      "education         15060 non-null object\n",
      "education_num     15060 non-null int64\n",
      "marital           15060 non-null object\n",
      "occupation        15060 non-null object\n",
      "relationship      15060 non-null object\n",
      "race              15060 non-null object\n",
      "sex               15060 non-null object\n",
      "capital_gain      15060 non-null int64\n",
      "capital_loss      15060 non-null int64\n",
      "hours_week        15060 non-null int64\n",
      "native_country    15060 non-null object\n",
      "label             15060 non-null int64\n",
      "dtypes: int64(7), object(8)\n",
      "memory usage: 1.8+ MB\n"
     ]
    }
   ],
   "source": [
    "df_test.info()"
   ]
  },
  {
   "cell_type": "code",
   "execution_count": 13,
   "metadata": {
    "scrolled": true
   },
   "outputs": [
    {
     "name": "stdout",
     "output_type": "stream",
     "text": [
      "0    22654\n",
      "1     7508\n",
      "Name: label, dtype: int64\n",
      "0    11360\n",
      "1     3700\n",
      "Name: label, dtype: int64\n",
      "age                int64\n",
      "workclass         object\n",
      "fnlwgt             int64\n",
      "education         object\n",
      "education_num      int64\n",
      "marital           object\n",
      "occupation        object\n",
      "relationship      object\n",
      "race              object\n",
      "sex               object\n",
      "capital_gain       int64\n",
      "capital_loss       int64\n",
      "hours_week         int64\n",
      "native_country    object\n",
      "label              int64\n",
      "dtype: object\n"
     ]
    }
   ],
   "source": [
    "print(df_train[\"label\"].value_counts())\n",
    "### The model will be correct in atleast 70% of the case\n",
    "print(df_test[\"label\"].value_counts())\n",
    "## Unbalanced label\n",
    "print(df_train.dtypes)"
   ]
  },
  {
   "cell_type": "code",
   "execution_count": 14,
   "metadata": {},
   "outputs": [],
   "source": [
    "CONTI_FEATURES  = ['age', 'fnlwgt','capital_gain', 'education_num', 'capital_loss', 'hours_week']\n",
    "### Define the categorical list\n",
    "CATE_FEATURES = ['workclass', 'education', 'marital', 'occupation', 'relationship', 'race', 'sex']"
   ]
  },
  {
   "cell_type": "code",
   "execution_count": 15,
   "metadata": {},
   "outputs": [],
   "source": [
    "for var in CATE_FEATURES:\n",
    "    cat_list = pd.get_dummies(df_train[var], drop_first = True)\n",
    "    data = df_train.join(cat_list)\n",
    "    df_train = data"
   ]
  },
  {
   "cell_type": "code",
   "execution_count": 16,
   "metadata": {
    "scrolled": true
   },
   "outputs": [
    {
     "data": {
      "text/plain": [
       "Index(['age', 'fnlwgt', 'education_num', 'capital_gain', 'capital_loss',\n",
       "       'hours_week', 'label', 'Local-gov', 'Private', 'Self-emp-inc',\n",
       "       'Self-emp-not-inc', 'State-gov', 'Without-pay', '11th', '12th',\n",
       "       '1st-4th', '5th-6th', '7th-8th', '9th', 'Assoc-acdm', 'Assoc-voc',\n",
       "       'Bachelors', 'Doctorate', 'HS-grad', 'Masters', 'Preschool',\n",
       "       'Prof-school', 'Some-college', 'Married-AF-spouse',\n",
       "       'Married-civ-spouse', 'Married-spouse-absent', 'Never-married',\n",
       "       'Separated', 'Widowed', 'Armed-Forces', 'Craft-repair',\n",
       "       'Exec-managerial', 'Farming-fishing', 'Handlers-cleaners',\n",
       "       'Machine-op-inspct', 'Other-service', 'Priv-house-serv',\n",
       "       'Prof-specialty', 'Protective-serv', 'Sales', 'Tech-support',\n",
       "       'Transport-moving', 'Not-in-family', 'Other-relative', 'Own-child',\n",
       "       'Unmarried', 'Wife', 'Asian-Pac-Islander', 'Black', 'Other', 'White',\n",
       "       'Male'],\n",
       "      dtype='object')"
      ]
     },
     "execution_count": 16,
     "metadata": {},
     "output_type": "execute_result"
    }
   ],
   "source": [
    "df_train.drop(CATE_FEATURES, axis = 1, inplace = True)\n",
    "df_train.drop(['native_country'], axis = 1, inplace = True)\n",
    "df_train.columns"
   ]
  },
  {
   "cell_type": "code",
   "execution_count": 17,
   "metadata": {},
   "outputs": [],
   "source": [
    "for var1 in CATE_FEATURES:\n",
    "    cat_list = pd.get_dummies(df_test[var1], drop_first = True)\n",
    "    data = df_test.join(cat_list)\n",
    "    df_test = data"
   ]
  },
  {
   "cell_type": "code",
   "execution_count": 18,
   "metadata": {
    "scrolled": false
   },
   "outputs": [
    {
     "data": {
      "text/plain": [
       "Index(['age', 'fnlwgt', 'education_num', 'capital_gain', 'capital_loss',\n",
       "       'hours_week', 'label', 'Local-gov', 'Private', 'Self-emp-inc',\n",
       "       'Self-emp-not-inc', 'State-gov', 'Without-pay', '11th', '12th',\n",
       "       '1st-4th', '5th-6th', '7th-8th', '9th', 'Assoc-acdm', 'Assoc-voc',\n",
       "       'Bachelors', 'Doctorate', 'HS-grad', 'Masters', 'Preschool',\n",
       "       'Prof-school', 'Some-college', 'Married-AF-spouse',\n",
       "       'Married-civ-spouse', 'Married-spouse-absent', 'Never-married',\n",
       "       'Separated', 'Widowed', 'Armed-Forces', 'Craft-repair',\n",
       "       'Exec-managerial', 'Farming-fishing', 'Handlers-cleaners',\n",
       "       'Machine-op-inspct', 'Other-service', 'Priv-house-serv',\n",
       "       'Prof-specialty', 'Protective-serv', 'Sales', 'Tech-support',\n",
       "       'Transport-moving', 'Not-in-family', 'Other-relative', 'Own-child',\n",
       "       'Unmarried', 'Wife', 'Asian-Pac-Islander', 'Black', 'Other', 'White',\n",
       "       'Male'],\n",
       "      dtype='object')"
      ]
     },
     "execution_count": 18,
     "metadata": {},
     "output_type": "execute_result"
    }
   ],
   "source": [
    "df_test.drop(CATE_FEATURES, axis = 1, inplace = True)\n",
    "df_test.drop(['native_country'], axis = 1, inplace = True)\n",
    "df_test.columns"
   ]
  },
  {
   "cell_type": "code",
   "execution_count": 19,
   "metadata": {
    "scrolled": true
   },
   "outputs": [
    {
     "name": "stdout",
     "output_type": "stream",
     "text": [
      "<class 'pandas.core.frame.DataFrame'>\n",
      "Int64Index: 30162 entries, 0 to 32560\n",
      "Data columns (total 57 columns):\n",
      "age                      30162 non-null int64\n",
      "fnlwgt                   30162 non-null int64\n",
      "education_num            30162 non-null int64\n",
      "capital_gain             30162 non-null int64\n",
      "capital_loss             30162 non-null int64\n",
      "hours_week               30162 non-null int64\n",
      "label                    30162 non-null int64\n",
      "Local-gov                30162 non-null uint8\n",
      "Private                  30162 non-null uint8\n",
      "Self-emp-inc             30162 non-null uint8\n",
      "Self-emp-not-inc         30162 non-null uint8\n",
      "State-gov                30162 non-null uint8\n",
      "Without-pay              30162 non-null uint8\n",
      "11th                     30162 non-null uint8\n",
      "12th                     30162 non-null uint8\n",
      "1st-4th                  30162 non-null uint8\n",
      "5th-6th                  30162 non-null uint8\n",
      "7th-8th                  30162 non-null uint8\n",
      "9th                      30162 non-null uint8\n",
      "Assoc-acdm               30162 non-null uint8\n",
      "Assoc-voc                30162 non-null uint8\n",
      "Bachelors                30162 non-null uint8\n",
      "Doctorate                30162 non-null uint8\n",
      "HS-grad                  30162 non-null uint8\n",
      "Masters                  30162 non-null uint8\n",
      "Preschool                30162 non-null uint8\n",
      "Prof-school              30162 non-null uint8\n",
      "Some-college             30162 non-null uint8\n",
      "Married-AF-spouse        30162 non-null uint8\n",
      "Married-civ-spouse       30162 non-null uint8\n",
      "Married-spouse-absent    30162 non-null uint8\n",
      "Never-married            30162 non-null uint8\n",
      "Separated                30162 non-null uint8\n",
      "Widowed                  30162 non-null uint8\n",
      "Armed-Forces             30162 non-null uint8\n",
      "Craft-repair             30162 non-null uint8\n",
      "Exec-managerial          30162 non-null uint8\n",
      "Farming-fishing          30162 non-null uint8\n",
      "Handlers-cleaners        30162 non-null uint8\n",
      "Machine-op-inspct        30162 non-null uint8\n",
      "Other-service            30162 non-null uint8\n",
      "Priv-house-serv          30162 non-null uint8\n",
      "Prof-specialty           30162 non-null uint8\n",
      "Protective-serv          30162 non-null uint8\n",
      "Sales                    30162 non-null uint8\n",
      "Tech-support             30162 non-null uint8\n",
      "Transport-moving         30162 non-null uint8\n",
      "Not-in-family            30162 non-null uint8\n",
      "Other-relative           30162 non-null uint8\n",
      "Own-child                30162 non-null uint8\n",
      "Unmarried                30162 non-null uint8\n",
      "Wife                     30162 non-null uint8\n",
      "Asian-Pac-Islander       30162 non-null uint8\n",
      "Black                    30162 non-null uint8\n",
      "Other                    30162 non-null uint8\n",
      "White                    30162 non-null uint8\n",
      "Male                     30162 non-null uint8\n",
      "dtypes: int64(7), uint8(50)\n",
      "memory usage: 4.5 MB\n"
     ]
    }
   ],
   "source": [
    "df_train.info()"
   ]
  },
  {
   "cell_type": "markdown",
   "metadata": {},
   "source": [
    "## Logistic Regression"
   ]
  },
  {
   "cell_type": "code",
   "execution_count": 20,
   "metadata": {},
   "outputs": [],
   "source": [
    "x_train = df_train.drop(['label'], axis = 1)\n",
    "y_train = df_train['label']"
   ]
  },
  {
   "cell_type": "code",
   "execution_count": 21,
   "metadata": {},
   "outputs": [],
   "source": [
    "x_test = df_test.drop(['label'], axis = 1)\n",
    "y_test = df_test['label']"
   ]
  },
  {
   "cell_type": "code",
   "execution_count": 22,
   "metadata": {},
   "outputs": [
    {
     "name": "stderr",
     "output_type": "stream",
     "text": [
      "C:\\ProgramData\\Anaconda3\\lib\\site-packages\\sklearn\\linear_model\\logistic.py:433: FutureWarning: Default solver will be changed to 'lbfgs' in 0.22. Specify a solver to silence this warning.\n",
      "  FutureWarning)\n"
     ]
    },
    {
     "data": {
      "text/plain": [
       "LogisticRegression(C=10000000000.0, class_weight=None, dual=False,\n",
       "          fit_intercept=True, intercept_scaling=1, max_iter=100000.0,\n",
       "          multi_class='warn', n_jobs=None, penalty='l2', random_state=None,\n",
       "          solver='warn', tol=0.0001, verbose=0, warm_start=False)"
      ]
     },
     "execution_count": 22,
     "metadata": {},
     "output_type": "execute_result"
    }
   ],
   "source": [
    "from sklearn import linear_model\n",
    "logit = linear_model.LogisticRegression(C=1e10, max_iter=1e5)\n",
    "logit.fit(x_train,y_train)"
   ]
  },
  {
   "cell_type": "code",
   "execution_count": 23,
   "metadata": {},
   "outputs": [
    {
     "data": {
      "text/plain": [
       "0.7930942895086321"
      ]
     },
     "execution_count": 23,
     "metadata": {},
     "output_type": "execute_result"
    }
   ],
   "source": [
    "logit.score(x_test,y_test)"
   ]
  },
  {
   "cell_type": "code",
   "execution_count": 24,
   "metadata": {},
   "outputs": [
    {
     "data": {
      "text/plain": [
       "0.7907632119885949"
      ]
     },
     "execution_count": 24,
     "metadata": {},
     "output_type": "execute_result"
    }
   ],
   "source": [
    "logit.score(x_train,y_train)"
   ]
  },
  {
   "cell_type": "markdown",
   "metadata": {},
   "source": [
    "## Sequential"
   ]
  },
  {
   "cell_type": "code",
   "execution_count": 26,
   "metadata": {},
   "outputs": [],
   "source": [
    "from tensorflow import keras\n",
    "from tensorflow.keras import layers\n",
    "def build_model():\n",
    "    # Define the model - Sequential Model \n",
    "    # Activation function - ReLU, tf.nn.sigmoid\n",
    "    model = keras.Sequential([\n",
    "    layers.Dense(64, activation=tf.nn.sigmoid, \n",
    "                 input_shape=[len(x_train.keys())]),\n",
    "    layers.Dense(64, activation=tf.nn.sigmoid),\n",
    "    layers.Dense(1)\n",
    "  ])\n",
    "    # Model Optimizer - To optimize loss function\n",
    "    optimizer = tf.keras.optimizers.Adam(0.01)\n",
    "    model.compile(loss='mean_squared_error',\n",
    "                optimizer=optimizer,\n",
    "                metrics=['mean_absolute_error', \n",
    "                         'mean_squared_error'])\n",
    "    return model"
   ]
  },
  {
   "cell_type": "code",
   "execution_count": 27,
   "metadata": {},
   "outputs": [
    {
     "name": "stdout",
     "output_type": "stream",
     "text": [
      "WARNING:tensorflow:From C:\\ProgramData\\Anaconda3\\lib\\site-packages\\tensorflow\\python\\ops\\resource_variable_ops.py:435: colocate_with (from tensorflow.python.framework.ops) is deprecated and will be removed in a future version.\n",
      "Instructions for updating:\n",
      "Colocations handled automatically by placer.\n",
      "WARNING:tensorflow:From C:\\ProgramData\\Anaconda3\\lib\\site-packages\\tensorflow\\python\\keras\\utils\\losses_utils.py:170: to_float (from tensorflow.python.ops.math_ops) is deprecated and will be removed in a future version.\n",
      "Instructions for updating:\n",
      "Use tf.cast instead.\n"
     ]
    }
   ],
   "source": [
    "model = build_model()"
   ]
  },
  {
   "cell_type": "code",
   "execution_count": 28,
   "metadata": {},
   "outputs": [
    {
     "name": "stdout",
     "output_type": "stream",
     "text": [
      "_________________________________________________________________\n",
      "Layer (type)                 Output Shape              Param #   \n",
      "=================================================================\n",
      "dense (Dense)                (None, 64)                3648      \n",
      "_________________________________________________________________\n",
      "dense_1 (Dense)              (None, 64)                4160      \n",
      "_________________________________________________________________\n",
      "dense_2 (Dense)              (None, 1)                 65        \n",
      "=================================================================\n",
      "Total params: 7,873\n",
      "Trainable params: 7,873\n",
      "Non-trainable params: 0\n",
      "_________________________________________________________________\n"
     ]
    }
   ],
   "source": [
    "model.summary()"
   ]
  },
  {
   "cell_type": "code",
   "execution_count": 30,
   "metadata": {},
   "outputs": [
    {
     "data": {
      "text/plain": [
       "array([[0.22937952],\n",
       "       [0.27260357],\n",
       "       [0.27260357],\n",
       "       [0.27260357],\n",
       "       [0.27260357],\n",
       "       [0.27260357],\n",
       "       [0.27260357],\n",
       "       [0.27260357],\n",
       "       [0.21431556],\n",
       "       [0.22937952]], dtype=float32)"
      ]
     },
     "execution_count": 30,
     "metadata": {},
     "output_type": "execute_result"
    }
   ],
   "source": [
    "example_batch = x_train[:10]\n",
    "from sklearn.metrics import mean_squared_error\n",
    "example_result = model.predict(example_batch)\n",
    "example_result"
   ]
  },
  {
   "cell_type": "code",
   "execution_count": 32,
   "metadata": {
    "scrolled": true
   },
   "outputs": [
    {
     "name": "stdout",
     "output_type": "stream",
     "text": [
      "Train on 24129 samples, validate on 6033 samples\n",
      "Epoch 1/100\n",
      "24129/24129 [==============================] - 2s 85us/sample - loss: 0.1881 - mean_absolute_error: 0.3689 - mean_squared_error: 0.1881 - val_loss: 0.2006 - val_mean_absolute_error: 0.4325 - val_mean_squared_error: 0.2006\n",
      "Epoch 2/100\n",
      "24129/24129 [==============================] - 2s 73us/sample - loss: 0.1885 - mean_absolute_error: 0.3691 - mean_squared_error: 0.1885 - val_loss: 0.1960 - val_mean_absolute_error: 0.3290 - val_mean_squared_error: 0.1960\n",
      "Epoch 3/100\n",
      "24129/24129 [==============================] - 2s 81us/sample - loss: 0.1882 - mean_absolute_error: 0.3680 - mean_squared_error: 0.1882 - val_loss: 0.1923 - val_mean_absolute_error: 0.3385 - val_mean_squared_error: 0.1923\n",
      "Epoch 4/100\n",
      "24129/24129 [==============================] - 2s 87us/sample - loss: 0.1883 - mean_absolute_error: 0.3688 - mean_squared_error: 0.1883 - val_loss: 0.1874 - val_mean_absolute_error: 0.3641 - val_mean_squared_error: 0.1874\n",
      "Epoch 5/100\n",
      "24129/24129 [==============================] - 2s 77us/sample - loss: 0.1862 - mean_absolute_error: 0.3676 - mean_squared_error: 0.1862 - val_loss: 0.1899 - val_mean_absolute_error: 0.4014 - val_mean_squared_error: 0.1899\n",
      "Epoch 6/100\n",
      "24129/24129 [==============================] - 2s 70us/sample - loss: 0.1869 - mean_absolute_error: 0.3676 - mean_squared_error: 0.1869 - val_loss: 0.1935 - val_mean_absolute_error: 0.3334 - val_mean_squared_error: 0.1935\n",
      "Epoch 7/100\n",
      "24129/24129 [==============================] - 2s 70us/sample - loss: 0.1880 - mean_absolute_error: 0.3682 - mean_squared_error: 0.1880 - val_loss: 0.1867 - val_mean_absolute_error: 0.3797 - val_mean_squared_error: 0.1867\n",
      "Epoch 8/100\n",
      "24129/24129 [==============================] - 2s 73us/sample - loss: 0.1865 - mean_absolute_error: 0.3677 - mean_squared_error: 0.1865 - val_loss: 0.1982 - val_mean_absolute_error: 0.3199 - val_mean_squared_error: 0.1982\n",
      "Epoch 9/100\n",
      "24129/24129 [==============================] - 2s 71us/sample - loss: 0.1872 - mean_absolute_error: 0.3665 - mean_squared_error: 0.1872 - val_loss: 0.1866 - val_mean_absolute_error: 0.3820 - val_mean_squared_error: 0.1866\n",
      "Epoch 10/100\n",
      "24129/24129 [==============================] - 2s 69us/sample - loss: 0.1876 - mean_absolute_error: 0.3671 - mean_squared_error: 0.1876 - val_loss: 0.1886 - val_mean_absolute_error: 0.3489 - val_mean_squared_error: 0.1886\n",
      "Epoch 11/100\n",
      "24129/24129 [==============================] - 2s 71us/sample - loss: 0.1884 - mean_absolute_error: 0.3673 - mean_squared_error: 0.1884 - val_loss: 0.1909 - val_mean_absolute_error: 0.4069 - val_mean_squared_error: 0.1909\n",
      "Epoch 12/100\n",
      "24129/24129 [==============================] - 2s 69us/sample - loss: 0.1861 - mean_absolute_error: 0.3671 - mean_squared_error: 0.1861 - val_loss: 0.1868 - val_mean_absolute_error: 0.3601 - val_mean_squared_error: 0.1868\n",
      "Epoch 13/100\n",
      "24129/24129 [==============================] - 2s 70us/sample - loss: 0.1862 - mean_absolute_error: 0.3661 - mean_squared_error: 0.1862 - val_loss: 0.1968 - val_mean_absolute_error: 0.3214 - val_mean_squared_error: 0.1968\n",
      "Epoch 14/100\n",
      "24129/24129 [==============================] - 2s 70us/sample - loss: 0.1859 - mean_absolute_error: 0.3661 - mean_squared_error: 0.1859 - val_loss: 0.1886 - val_mean_absolute_error: 0.3503 - val_mean_squared_error: 0.1886\n",
      "Epoch 15/100\n",
      "24129/24129 [==============================] - 2s 70us/sample - loss: 0.1871 - mean_absolute_error: 0.3665 - mean_squared_error: 0.1871 - val_loss: 0.1864 - val_mean_absolute_error: 0.3662 - val_mean_squared_error: 0.1864\n",
      "Epoch 16/100\n",
      "24129/24129 [==============================] - 2s 72us/sample - loss: 0.1853 - mean_absolute_error: 0.3658 - mean_squared_error: 0.1853 - val_loss: 0.1914 - val_mean_absolute_error: 0.4088 - val_mean_squared_error: 0.1914\n",
      "Epoch 17/100\n",
      "24129/24129 [==============================] - 2s 70us/sample - loss: 0.1872 - mean_absolute_error: 0.3676 - mean_squared_error: 0.1872 - val_loss: 0.1863 - val_mean_absolute_error: 0.3667 - val_mean_squared_error: 0.1863\n",
      "Epoch 18/100\n",
      "24129/24129 [==============================] - 2s 71us/sample - loss: 0.1885 - mean_absolute_error: 0.3676 - mean_squared_error: 0.1885 - val_loss: 0.1875 - val_mean_absolute_error: 0.3907 - val_mean_squared_error: 0.1875\n",
      "Epoch 19/100\n",
      "24129/24129 [==============================] - 2s 74us/sample - loss: 0.1861 - mean_absolute_error: 0.3665 - mean_squared_error: 0.1861 - val_loss: 0.1883 - val_mean_absolute_error: 0.3956 - val_mean_squared_error: 0.1883\n",
      "Epoch 20/100\n",
      "24129/24129 [==============================] - 2s 74us/sample - loss: 0.1871 - mean_absolute_error: 0.3667 - mean_squared_error: 0.1871 - val_loss: 0.1981 - val_mean_absolute_error: 0.4272 - val_mean_squared_error: 0.1981\n",
      "Epoch 21/100\n",
      "24129/24129 [==============================] - 2s 71us/sample - loss: 0.1880 - mean_absolute_error: 0.3674 - mean_squared_error: 0.1880 - val_loss: 0.2008 - val_mean_absolute_error: 0.3126 - val_mean_squared_error: 0.2008\n",
      "Epoch 22/100\n",
      "24129/24129 [==============================] - 2s 74us/sample - loss: 0.1862 - mean_absolute_error: 0.3665 - mean_squared_error: 0.1862 - val_loss: 0.1940 - val_mean_absolute_error: 0.3288 - val_mean_squared_error: 0.1940\n",
      "Epoch 23/100\n",
      "24129/24129 [==============================] - 2s 75us/sample - loss: 0.1875 - mean_absolute_error: 0.3663 - mean_squared_error: 0.1875 - val_loss: 0.1862 - val_mean_absolute_error: 0.3741 - val_mean_squared_error: 0.1862\n",
      "Epoch 24/100\n",
      "24129/24129 [==============================] - 2s 73us/sample - loss: 0.1865 - mean_absolute_error: 0.3667 - mean_squared_error: 0.1865 - val_loss: 0.1950 - val_mean_absolute_error: 0.3261 - val_mean_squared_error: 0.1950\n",
      "Epoch 25/100\n",
      "24129/24129 [==============================] - 2s 75us/sample - loss: 0.1865 - mean_absolute_error: 0.3659 - mean_squared_error: 0.1865 - val_loss: 0.1953 - val_mean_absolute_error: 0.4203 - val_mean_squared_error: 0.1953\n",
      "Epoch 26/100\n",
      "24129/24129 [==============================] - 2s 86us/sample - loss: 0.1872 - mean_absolute_error: 0.3668 - mean_squared_error: 0.1872 - val_loss: 0.1872 - val_mean_absolute_error: 0.3570 - val_mean_squared_error: 0.1872\n",
      "Epoch 27/100\n",
      "24129/24129 [==============================] - 2s 85us/sample - loss: 0.1866 - mean_absolute_error: 0.3665 - mean_squared_error: 0.1866 - val_loss: 0.1864 - val_mean_absolute_error: 0.3653 - val_mean_squared_error: 0.1864\n",
      "Epoch 28/100\n",
      "24129/24129 [==============================] - 2s 83us/sample - loss: 0.1870 - mean_absolute_error: 0.3663 - mean_squared_error: 0.1870 - val_loss: 0.1874 - val_mean_absolute_error: 0.3552 - val_mean_squared_error: 0.1874\n",
      "Epoch 29/100\n",
      "24129/24129 [==============================] - 2s 87us/sample - loss: 0.1861 - mean_absolute_error: 0.3660 - mean_squared_error: 0.1861 - val_loss: 0.2079 - val_mean_absolute_error: 0.2997 - val_mean_squared_error: 0.2079\n",
      "Epoch 30/100\n",
      "24129/24129 [==============================] - 2s 91us/sample - loss: 0.1863 - mean_absolute_error: 0.3662 - mean_squared_error: 0.1863 - val_loss: 0.2084 - val_mean_absolute_error: 0.4472 - val_mean_squared_error: 0.2084\n",
      "Epoch 31/100\n",
      "24129/24129 [==============================] - 2s 85us/sample - loss: 0.1878 - mean_absolute_error: 0.3674 - mean_squared_error: 0.1878 - val_loss: 0.1869 - val_mean_absolute_error: 0.3593 - val_mean_squared_error: 0.1869\n",
      "Epoch 32/100\n",
      "24129/24129 [==============================] - 2s 98us/sample - loss: 0.1864 - mean_absolute_error: 0.3664 - mean_squared_error: 0.1864 - val_loss: 0.1868 - val_mean_absolute_error: 0.3606 - val_mean_squared_error: 0.1868\n",
      "Epoch 33/100\n",
      "24129/24129 [==============================] - 2s 95us/sample - loss: 0.1869 - mean_absolute_error: 0.3662 - mean_squared_error: 0.1869 - val_loss: 0.1952 - val_mean_absolute_error: 0.3255 - val_mean_squared_error: 0.1952\n",
      "Epoch 34/100\n",
      "24129/24129 [==============================] - 2s 102us/sample - loss: 0.1870 - mean_absolute_error: 0.3662 - mean_squared_error: 0.1870 - val_loss: 0.1880 - val_mean_absolute_error: 0.3516 - val_mean_squared_error: 0.1880\n",
      "Epoch 35/100\n",
      "24129/24129 [==============================] - 2s 91us/sample - loss: 0.1868 - mean_absolute_error: 0.3668 - mean_squared_error: 0.1868 - val_loss: 0.1940 - val_mean_absolute_error: 0.3288 - val_mean_squared_error: 0.1940\n"
     ]
    },
    {
     "name": "stdout",
     "output_type": "stream",
     "text": [
      "Epoch 36/100\n",
      "24129/24129 [==============================] - 2s 89us/sample - loss: 0.1865 - mean_absolute_error: 0.3665 - mean_squared_error: 0.1865 - val_loss: 0.1897 - val_mean_absolute_error: 0.4022 - val_mean_squared_error: 0.1897\n",
      "Epoch 37/100\n",
      "24129/24129 [==============================] - 2s 94us/sample - loss: 0.1880 - mean_absolute_error: 0.3651 - mean_squared_error: 0.1880 - val_loss: 0.2250 - val_mean_absolute_error: 0.4714 - val_mean_squared_error: 0.2250\n",
      "Epoch 38/100\n",
      "24129/24129 [==============================] - 2s 82us/sample - loss: 0.1870 - mean_absolute_error: 0.3670 - mean_squared_error: 0.1870 - val_loss: 0.2241 - val_mean_absolute_error: 0.2761 - val_mean_squared_error: 0.2241\n",
      "Epoch 39/100\n",
      "24129/24129 [==============================] - 2s 89us/sample - loss: 0.1865 - mean_absolute_error: 0.3662 - mean_squared_error: 0.1865 - val_loss: 0.1863 - val_mean_absolute_error: 0.3779 - val_mean_squared_error: 0.1863\n",
      "Epoch 40/100\n",
      "24129/24129 [==============================] - 2s 103us/sample - loss: 0.1867 - mean_absolute_error: 0.3663 - mean_squared_error: 0.1867 - val_loss: 0.1967 - val_mean_absolute_error: 0.4239 - val_mean_squared_error: 0.1967\n",
      "Epoch 41/100\n",
      "24129/24129 [==============================] - 3s 105us/sample - loss: 0.1866 - mean_absolute_error: 0.3667 - mean_squared_error: 0.1866 - val_loss: 0.1889 - val_mean_absolute_error: 0.3984 - val_mean_squared_error: 0.1889\n",
      "Epoch 42/100\n",
      "24129/24129 [==============================] - 2s 104us/sample - loss: 0.1886 - mean_absolute_error: 0.3662 - mean_squared_error: 0.1886 - val_loss: 0.1868 - val_mean_absolute_error: 0.3849 - val_mean_squared_error: 0.1868\n",
      "Epoch 43/100\n",
      "24129/24129 [==============================] - 2s 88us/sample - loss: 0.1870 - mean_absolute_error: 0.3659 - mean_squared_error: 0.1870 - val_loss: 0.1972 - val_mean_absolute_error: 0.4251 - val_mean_squared_error: 0.1972\n",
      "Epoch 44/100\n",
      "24129/24129 [==============================] - 2s 82us/sample - loss: 0.1866 - mean_absolute_error: 0.3666 - mean_squared_error: 0.1866 - val_loss: 0.1869 - val_mean_absolute_error: 0.3854 - val_mean_squared_error: 0.1869\n",
      "Epoch 45/100\n",
      "24129/24129 [==============================] - 2s 83us/sample - loss: 0.1854 - mean_absolute_error: 0.3658 - mean_squared_error: 0.1854 - val_loss: 0.1927 - val_mean_absolute_error: 0.3327 - val_mean_squared_error: 0.1927\n",
      "Epoch 46/100\n",
      "24129/24129 [==============================] - 2s 83us/sample - loss: 0.1872 - mean_absolute_error: 0.3659 - mean_squared_error: 0.1872 - val_loss: 0.2055 - val_mean_absolute_error: 0.4422 - val_mean_squared_error: 0.2055\n",
      "Epoch 47/100\n",
      "24129/24129 [==============================] - 2s 81us/sample - loss: 0.1879 - mean_absolute_error: 0.3666 - mean_squared_error: 0.1879 - val_loss: 0.1970 - val_mean_absolute_error: 0.4247 - val_mean_squared_error: 0.1970\n",
      "Epoch 48/100\n",
      "24129/24129 [==============================] - 2s 104us/sample - loss: 0.1881 - mean_absolute_error: 0.3677 - mean_squared_error: 0.1881 - val_loss: 0.1917 - val_mean_absolute_error: 0.4095 - val_mean_squared_error: 0.1917\n",
      "Epoch 49/100\n",
      "24129/24129 [==============================] - 2s 98us/sample - loss: 0.1867 - mean_absolute_error: 0.3668 - mean_squared_error: 0.1867 - val_loss: 0.1874 - val_mean_absolute_error: 0.3554 - val_mean_squared_error: 0.1874\n",
      "Epoch 50/100\n",
      "24129/24129 [==============================] - 2s 95us/sample - loss: 0.1870 - mean_absolute_error: 0.3664 - mean_squared_error: 0.1870 - val_loss: 0.2029 - val_mean_absolute_error: 0.4374 - val_mean_squared_error: 0.2029\n",
      "Epoch 51/100\n",
      "24129/24129 [==============================] - 2s 88us/sample - loss: 0.1865 - mean_absolute_error: 0.3672 - mean_squared_error: 0.1865 - val_loss: 0.1881 - val_mean_absolute_error: 0.3941 - val_mean_squared_error: 0.1881\n",
      "Epoch 52/100\n",
      "24129/24129 [==============================] - 2s 91us/sample - loss: 0.1876 - mean_absolute_error: 0.3666 - mean_squared_error: 0.1876 - val_loss: 0.1886 - val_mean_absolute_error: 0.3971 - val_mean_squared_error: 0.1886\n",
      "Epoch 53/100\n",
      "24129/24129 [==============================] - 2s 99us/sample - loss: 0.1868 - mean_absolute_error: 0.3668 - mean_squared_error: 0.1868 - val_loss: 0.1902 - val_mean_absolute_error: 0.3410 - val_mean_squared_error: 0.1902\n",
      "Epoch 54/100\n",
      "24129/24129 [==============================] - 2s 100us/sample - loss: 0.1877 - mean_absolute_error: 0.3668 - mean_squared_error: 0.1877 - val_loss: 0.2066 - val_mean_absolute_error: 0.3018 - val_mean_squared_error: 0.2066\n",
      "Epoch 55/100\n",
      "24129/24129 [==============================] - 2s 96us/sample - loss: 0.1859 - mean_absolute_error: 0.3658 - mean_squared_error: 0.1859 - val_loss: 0.1922 - val_mean_absolute_error: 0.4112 - val_mean_squared_error: 0.1922\n",
      "Epoch 56/100\n",
      "24129/24129 [==============================] - 2s 95us/sample - loss: 0.1870 - mean_absolute_error: 0.3671 - mean_squared_error: 0.1870 - val_loss: 0.1907 - val_mean_absolute_error: 0.3391 - val_mean_squared_error: 0.1907\n",
      "Epoch 57/100\n",
      "24129/24129 [==============================] - 2s 94us/sample - loss: 0.1877 - mean_absolute_error: 0.3660 - mean_squared_error: 0.1877 - val_loss: 0.1873 - val_mean_absolute_error: 0.3887 - val_mean_squared_error: 0.1873\n",
      "Epoch 58/100\n",
      "24129/24129 [==============================] - 3s 104us/sample - loss: 0.1868 - mean_absolute_error: 0.3665 - mean_squared_error: 0.1868 - val_loss: 0.1868 - val_mean_absolute_error: 0.3844 - val_mean_squared_error: 0.1868\n",
      "Epoch 59/100\n",
      "24129/24129 [==============================] - 2s 103us/sample - loss: 0.1873 - mean_absolute_error: 0.3663 - mean_squared_error: 0.1873 - val_loss: 0.1871 - val_mean_absolute_error: 0.3575 - val_mean_squared_error: 0.1871\n",
      "Epoch 60/100\n",
      "24129/24129 [==============================] - 2s 96us/sample - loss: 0.1872 - mean_absolute_error: 0.3663 - mean_squared_error: 0.1872 - val_loss: 0.2123 - val_mean_absolute_error: 0.2925 - val_mean_squared_error: 0.2123\n",
      "Epoch 61/100\n",
      "24129/24129 [==============================] - 2s 99us/sample - loss: 0.1869 - mean_absolute_error: 0.3662 - mean_squared_error: 0.1869 - val_loss: 0.1906 - val_mean_absolute_error: 0.3396 - val_mean_squared_error: 0.1906\n",
      "Epoch 62/100\n",
      "24129/24129 [==============================] - 2s 87us/sample - loss: 0.1869 - mean_absolute_error: 0.3668 - mean_squared_error: 0.1869 - val_loss: 0.1890 - val_mean_absolute_error: 0.3464 - val_mean_squared_error: 0.1890\n",
      "Epoch 63/100\n",
      "24129/24129 [==============================] - 2s 88us/sample - loss: 0.1863 - mean_absolute_error: 0.3660 - mean_squared_error: 0.1863 - val_loss: 0.1862 - val_mean_absolute_error: 0.3731 - val_mean_squared_error: 0.1862\n",
      "Epoch 64/100\n",
      "24129/24129 [==============================] - 2s 90us/sample - loss: 0.1880 - mean_absolute_error: 0.3669 - mean_squared_error: 0.1880 - val_loss: 0.1865 - val_mean_absolute_error: 0.3645 - val_mean_squared_error: 0.1865\n",
      "Epoch 65/100\n",
      "24129/24129 [==============================] - 2s 88us/sample - loss: 0.1872 - mean_absolute_error: 0.3667 - mean_squared_error: 0.1872 - val_loss: 0.1865 - val_mean_absolute_error: 0.3808 - val_mean_squared_error: 0.1865\n",
      "Epoch 66/100\n",
      "24129/24129 [==============================] - 2s 89us/sample - loss: 0.1876 - mean_absolute_error: 0.3667 - mean_squared_error: 0.1876 - val_loss: 0.1908 - val_mean_absolute_error: 0.3390 - val_mean_squared_error: 0.1908\n",
      "Epoch 67/100\n",
      "24129/24129 [==============================] - 2s 91us/sample - loss: 0.1865 - mean_absolute_error: 0.3665 - mean_squared_error: 0.1865 - val_loss: 0.1968 - val_mean_absolute_error: 0.3216 - val_mean_squared_error: 0.1968\n",
      "Epoch 68/100\n",
      "24129/24129 [==============================] - 2s 89us/sample - loss: 0.1871 - mean_absolute_error: 0.3655 - mean_squared_error: 0.1871 - val_loss: 0.1862 - val_mean_absolute_error: 0.3692 - val_mean_squared_error: 0.1862\n",
      "Epoch 69/100\n",
      "24129/24129 [==============================] - 2s 89us/sample - loss: 0.1868 - mean_absolute_error: 0.3665 - mean_squared_error: 0.1868 - val_loss: 0.1885 - val_mean_absolute_error: 0.3487 - val_mean_squared_error: 0.1885\n",
      "Epoch 70/100\n",
      "24129/24129 [==============================] - 3s 122us/sample - loss: 0.1867 - mean_absolute_error: 0.3667 - mean_squared_error: 0.1867 - val_loss: 0.1894 - val_mean_absolute_error: 0.4006 - val_mean_squared_error: 0.1894\n"
     ]
    },
    {
     "name": "stdout",
     "output_type": "stream",
     "text": [
      "Epoch 71/100\n",
      "24129/24129 [==============================] - 3s 120us/sample - loss: 0.1883 - mean_absolute_error: 0.3673 - mean_squared_error: 0.1883 - val_loss: 0.1941 - val_mean_absolute_error: 0.3286 - val_mean_squared_error: 0.1941\n",
      "Epoch 72/100\n",
      "24129/24129 [==============================] - 2s 101us/sample - loss: 0.1876 - mean_absolute_error: 0.3669 - mean_squared_error: 0.1876 - val_loss: 0.1870 - val_mean_absolute_error: 0.3581 - val_mean_squared_error: 0.1870\n",
      "Epoch 73/100\n",
      "24129/24129 [==============================] - 2s 103us/sample - loss: 0.1860 - mean_absolute_error: 0.3659 - mean_squared_error: 0.1860 - val_loss: 0.1862 - val_mean_absolute_error: 0.3722 - val_mean_squared_error: 0.1862\n",
      "Epoch 74/100\n",
      "24129/24129 [==============================] - 2s 81us/sample - loss: 0.1864 - mean_absolute_error: 0.3659 - mean_squared_error: 0.1864 - val_loss: 0.1862 - val_mean_absolute_error: 0.3708 - val_mean_squared_error: 0.1862\n",
      "Epoch 75/100\n",
      "24129/24129 [==============================] - 2s 76us/sample - loss: 0.1878 - mean_absolute_error: 0.3665 - mean_squared_error: 0.1878 - val_loss: 0.1865 - val_mean_absolute_error: 0.3635 - val_mean_squared_error: 0.1865\n",
      "Epoch 76/100\n",
      "24129/24129 [==============================] - 2s 76us/sample - loss: 0.1856 - mean_absolute_error: 0.3664 - mean_squared_error: 0.1856 - val_loss: 0.1883 - val_mean_absolute_error: 0.3957 - val_mean_squared_error: 0.1883\n",
      "Epoch 77/100\n",
      "24129/24129 [==============================] - 2s 94us/sample - loss: 0.1869 - mean_absolute_error: 0.3672 - mean_squared_error: 0.1869 - val_loss: 0.1898 - val_mean_absolute_error: 0.3427 - val_mean_squared_error: 0.1898\n",
      "Epoch 78/100\n",
      "24129/24129 [==============================] - 2s 98us/sample - loss: 0.1869 - mean_absolute_error: 0.3669 - mean_squared_error: 0.1869 - val_loss: 0.1928 - val_mean_absolute_error: 0.3322 - val_mean_squared_error: 0.1928\n",
      "Epoch 79/100\n",
      "24129/24129 [==============================] - 2s 101us/sample - loss: 0.1873 - mean_absolute_error: 0.3660 - mean_squared_error: 0.1873 - val_loss: 0.1865 - val_mean_absolute_error: 0.3635 - val_mean_squared_error: 0.1865\n",
      "Epoch 80/100\n",
      "24129/24129 [==============================] - 3s 106us/sample - loss: 0.1891 - mean_absolute_error: 0.3669 - mean_squared_error: 0.1891 - val_loss: 0.1981 - val_mean_absolute_error: 0.3185 - val_mean_squared_error: 0.1981\n",
      "Epoch 81/100\n",
      "24129/24129 [==============================] - 2s 94us/sample - loss: 0.1861 - mean_absolute_error: 0.3666 - mean_squared_error: 0.1861 - val_loss: 0.1982 - val_mean_absolute_error: 0.3184 - val_mean_squared_error: 0.1982\n",
      "Epoch 82/100\n",
      "24129/24129 [==============================] - 2s 83us/sample - loss: 0.1871 - mean_absolute_error: 0.3665 - mean_squared_error: 0.1871 - val_loss: 0.2042 - val_mean_absolute_error: 0.4398 - val_mean_squared_error: 0.2042\n",
      "Epoch 83/100\n",
      "24129/24129 [==============================] - 2s 87us/sample - loss: 0.1860 - mean_absolute_error: 0.3674 - mean_squared_error: 0.1860 - val_loss: 0.1870 - val_mean_absolute_error: 0.3868 - val_mean_squared_error: 0.1870\n",
      "Epoch 84/100\n",
      "24129/24129 [==============================] - 2s 96us/sample - loss: 0.1858 - mean_absolute_error: 0.3666 - mean_squared_error: 0.1858 - val_loss: 0.1902 - val_mean_absolute_error: 0.3410 - val_mean_squared_error: 0.1902\n",
      "Epoch 85/100\n",
      "24129/24129 [==============================] - 2s 95us/sample - loss: 0.1861 - mean_absolute_error: 0.3661 - mean_squared_error: 0.1861 - val_loss: 0.1962 - val_mean_absolute_error: 0.3231 - val_mean_squared_error: 0.1962\n",
      "Epoch 86/100\n",
      "24129/24129 [==============================] - 2s 92us/sample - loss: 0.1868 - mean_absolute_error: 0.3660 - mean_squared_error: 0.1868 - val_loss: 0.1878 - val_mean_absolute_error: 0.3527 - val_mean_squared_error: 0.1878\n",
      "Epoch 87/100\n",
      "24129/24129 [==============================] - 2s 92us/sample - loss: 0.1886 - mean_absolute_error: 0.3669 - mean_squared_error: 0.1886 - val_loss: 0.1899 - val_mean_absolute_error: 0.3425 - val_mean_squared_error: 0.1899\n",
      "Epoch 88/100\n",
      "24129/24129 [==============================] - 2s 80us/sample - loss: 0.1872 - mean_absolute_error: 0.3662 - mean_squared_error: 0.1872 - val_loss: 0.1863 - val_mean_absolute_error: 0.3780 - val_mean_squared_error: 0.1863\n",
      "Epoch 89/100\n",
      "24129/24129 [==============================] - 2s 101us/sample - loss: 0.1874 - mean_absolute_error: 0.3668 - mean_squared_error: 0.1874 - val_loss: 0.2041 - val_mean_absolute_error: 0.3062 - val_mean_squared_error: 0.2041\n",
      "Epoch 90/100\n",
      "24129/24129 [==============================] - 3s 105us/sample - loss: 0.1868 - mean_absolute_error: 0.3666 - mean_squared_error: 0.1868 - val_loss: 0.1862 - val_mean_absolute_error: 0.3743 - val_mean_squared_error: 0.1862\n",
      "Epoch 91/100\n",
      "24129/24129 [==============================] - 2s 101us/sample - loss: 0.1860 - mean_absolute_error: 0.3662 - mean_squared_error: 0.1860 - val_loss: 0.2017 - val_mean_absolute_error: 0.4350 - val_mean_squared_error: 0.2017\n",
      "Epoch 92/100\n",
      "24129/24129 [==============================] - 2s 99us/sample - loss: 0.1873 - mean_absolute_error: 0.3669 - mean_squared_error: 0.1873 - val_loss: 0.1862 - val_mean_absolute_error: 0.3728 - val_mean_squared_error: 0.1862\n",
      "Epoch 93/100\n",
      "24129/24129 [==============================] - 2s 102us/sample - loss: 0.1868 - mean_absolute_error: 0.3667 - mean_squared_error: 0.1868 - val_loss: 0.1933 - val_mean_absolute_error: 0.3306 - val_mean_squared_error: 0.1933\n",
      "Epoch 94/100\n",
      "24129/24129 [==============================] - 3s 104us/sample - loss: 0.1867 - mean_absolute_error: 0.3663 - mean_squared_error: 0.1867 - val_loss: 0.1974 - val_mean_absolute_error: 0.4257 - val_mean_squared_error: 0.1974\n",
      "Epoch 95/100\n",
      "24129/24129 [==============================] - 3s 104us/sample - loss: 0.1879 - mean_absolute_error: 0.3674 - mean_squared_error: 0.1879 - val_loss: 0.1932 - val_mean_absolute_error: 0.4145 - val_mean_squared_error: 0.1932\n",
      "Epoch 96/100\n",
      "24129/24129 [==============================] - 2s 99us/sample - loss: 0.1869 - mean_absolute_error: 0.3671 - mean_squared_error: 0.1869 - val_loss: 0.1873 - val_mean_absolute_error: 0.3563 - val_mean_squared_error: 0.1873\n",
      "Epoch 97/100\n",
      "24129/24129 [==============================] - 3s 107us/sample - loss: 0.1861 - mean_absolute_error: 0.3668 - mean_squared_error: 0.1861 - val_loss: 0.1893 - val_mean_absolute_error: 0.4005 - val_mean_squared_error: 0.1893\n",
      "Epoch 98/100\n",
      "24129/24129 [==============================] - 3s 108us/sample - loss: 0.1866 - mean_absolute_error: 0.3662 - mean_squared_error: 0.1866 - val_loss: 0.1901 - val_mean_absolute_error: 0.3414 - val_mean_squared_error: 0.1901\n",
      "Epoch 99/100\n",
      "24129/24129 [==============================] - 2s 99us/sample - loss: 0.1875 - mean_absolute_error: 0.3659 - mean_squared_error: 0.1875 - val_loss: 0.1908 - val_mean_absolute_error: 0.4063 - val_mean_squared_error: 0.1908\n",
      "Epoch 100/100\n",
      "24129/24129 [==============================] - 2s 100us/sample - loss: 0.1871 - mean_absolute_error: 0.3669 - mean_squared_error: 0.1871 - val_loss: 0.1883 - val_mean_absolute_error: 0.3954 - val_mean_squared_error: 0.1883\n"
     ]
    }
   ],
   "source": [
    "EPOCHS = 100\n",
    "history = model.fit(\n",
    "  x_train, y_train,\n",
    "  epochs=EPOCHS, validation_split = 0.2, verbose=1)"
   ]
  },
  {
   "cell_type": "code",
   "execution_count": 33,
   "metadata": {},
   "outputs": [
    {
     "data": {
      "text/plain": [
       "(30162, 56)"
      ]
     },
     "execution_count": 33,
     "metadata": {},
     "output_type": "execute_result"
    }
   ],
   "source": [
    "x_train.shape"
   ]
  },
  {
   "cell_type": "code",
   "execution_count": 34,
   "metadata": {},
   "outputs": [
    {
     "data": {
      "text/plain": [
       "(30162,)"
      ]
     },
     "execution_count": 34,
     "metadata": {},
     "output_type": "execute_result"
    }
   ],
   "source": [
    "y_train.shape"
   ]
  },
  {
   "cell_type": "code",
   "execution_count": 35,
   "metadata": {},
   "outputs": [],
   "source": [
    "import matplotlib.pyplot as plt\n",
    "hist = pd.DataFrame(history.history)\n",
    "hist['epoch'] = history.epoch\n",
    "def plot_history(history):\n",
    "  hist = pd.DataFrame(history.history)\n",
    "  hist['epoch'] = history.epoch\n",
    "  \n",
    "  plt.figure()\n",
    "  plt.xlabel('Epoch')\n",
    "  plt.ylabel('Mean Abs Error [label]')\n",
    "  plt.plot(hist['epoch'], hist['mean_absolute_error'],\n",
    "           label='Train Error')\n",
    "  plt.plot(hist['epoch'], hist['val_mean_absolute_error'],\n",
    "           label = 'Val Error')\n",
    "  plt.ylim([0,5]) \n",
    "  plt.legend()\n",
    "  \n",
    "  plt.figure()\n",
    "  plt.xlabel('Epoch')\n",
    "  plt.ylabel('Mean Square Error [$label^2$]')\n",
    "  plt.plot(hist['epoch'], hist['mean_squared_error'],\n",
    "           label='Train Error')\n",
    "  plt.plot(hist['epoch'], hist['val_mean_squared_error'],\n",
    "           label = 'Val Error')\n",
    "  plt.ylim([0,20])\n",
    "  plt.legend()\n",
    "  plt.show()"
   ]
  },
  {
   "cell_type": "code",
   "execution_count": 40,
   "metadata": {},
   "outputs": [
    {
     "data": {
      "text/html": [
       "<div>\n",
       "<style scoped>\n",
       "    .dataframe tbody tr th:only-of-type {\n",
       "        vertical-align: middle;\n",
       "    }\n",
       "\n",
       "    .dataframe tbody tr th {\n",
       "        vertical-align: top;\n",
       "    }\n",
       "\n",
       "    .dataframe thead th {\n",
       "        text-align: right;\n",
       "    }\n",
       "</style>\n",
       "<table border=\"1\" class=\"dataframe\">\n",
       "  <thead>\n",
       "    <tr style=\"text-align: right;\">\n",
       "      <th></th>\n",
       "      <th>loss</th>\n",
       "      <th>mean_absolute_error</th>\n",
       "      <th>mean_squared_error</th>\n",
       "      <th>val_loss</th>\n",
       "      <th>val_mean_absolute_error</th>\n",
       "      <th>val_mean_squared_error</th>\n",
       "      <th>epoch</th>\n",
       "    </tr>\n",
       "  </thead>\n",
       "  <tbody>\n",
       "    <tr>\n",
       "      <th>95</th>\n",
       "      <td>0.186884</td>\n",
       "      <td>0.367113</td>\n",
       "      <td>0.186884</td>\n",
       "      <td>0.187278</td>\n",
       "      <td>0.356253</td>\n",
       "      <td>0.187278</td>\n",
       "      <td>95</td>\n",
       "    </tr>\n",
       "    <tr>\n",
       "      <th>96</th>\n",
       "      <td>0.186140</td>\n",
       "      <td>0.366844</td>\n",
       "      <td>0.186140</td>\n",
       "      <td>0.189341</td>\n",
       "      <td>0.400549</td>\n",
       "      <td>0.189341</td>\n",
       "      <td>96</td>\n",
       "    </tr>\n",
       "    <tr>\n",
       "      <th>97</th>\n",
       "      <td>0.186626</td>\n",
       "      <td>0.366169</td>\n",
       "      <td>0.186626</td>\n",
       "      <td>0.190142</td>\n",
       "      <td>0.341378</td>\n",
       "      <td>0.190142</td>\n",
       "      <td>97</td>\n",
       "    </tr>\n",
       "    <tr>\n",
       "      <th>98</th>\n",
       "      <td>0.187460</td>\n",
       "      <td>0.365895</td>\n",
       "      <td>0.187460</td>\n",
       "      <td>0.190757</td>\n",
       "      <td>0.406313</td>\n",
       "      <td>0.190757</td>\n",
       "      <td>98</td>\n",
       "    </tr>\n",
       "    <tr>\n",
       "      <th>99</th>\n",
       "      <td>0.187097</td>\n",
       "      <td>0.366863</td>\n",
       "      <td>0.187097</td>\n",
       "      <td>0.188301</td>\n",
       "      <td>0.395435</td>\n",
       "      <td>0.188301</td>\n",
       "      <td>99</td>\n",
       "    </tr>\n",
       "  </tbody>\n",
       "</table>\n",
       "</div>"
      ],
      "text/plain": [
       "        loss  mean_absolute_error  mean_squared_error  val_loss  \\\n",
       "95  0.186884             0.367113            0.186884  0.187278   \n",
       "96  0.186140             0.366844            0.186140  0.189341   \n",
       "97  0.186626             0.366169            0.186626  0.190142   \n",
       "98  0.187460             0.365895            0.187460  0.190757   \n",
       "99  0.187097             0.366863            0.187097  0.188301   \n",
       "\n",
       "    val_mean_absolute_error  val_mean_squared_error  epoch  \n",
       "95                 0.356253                0.187278     95  \n",
       "96                 0.400549                0.189341     96  \n",
       "97                 0.341378                0.190142     97  \n",
       "98                 0.406313                0.190757     98  \n",
       "99                 0.395435                0.188301     99  "
      ]
     },
     "execution_count": 40,
     "metadata": {},
     "output_type": "execute_result"
    }
   ],
   "source": [
    "hist.tail()"
   ]
  },
  {
   "cell_type": "code",
   "execution_count": 41,
   "metadata": {},
   "outputs": [
    {
     "data": {
      "image/png": "[encoded data removed]",
      "text/plain": [
       "<Figure size 432x288 with 1 Axes>"
      ]
     },
     "metadata": {
      "needs_background": "light"
     },
     "output_type": "display_data"
    },
    {
     "data": {
      "image/png": "[encoded data removed]",
      "text/plain": [
       "<Figure size 432x288 with 1 Axes>"
      ]
     },
     "metadata": {
      "needs_background": "light"
     },
     "output_type": "display_data"
    }
   ],
   "source": [
    "plot_history(history)"
   ]
  },
  {
   "cell_type": "code",
   "execution_count": 42,
   "metadata": {},
   "outputs": [],
   "source": [
    "example_batch = x_test\n",
    "from sklearn.metrics import mean_squared_error\n",
    "example_result = model.predict(example_batch)\n",
    "yhat = np.round(example_result)"
   ]
  },
  {
   "cell_type": "code",
   "execution_count": 43,
   "metadata": {},
   "outputs": [
    {
     "name": "stdout",
     "output_type": "stream",
     "text": [
      "[[11360     0]\n",
      " [ 3609    91]]\n"
     ]
    }
   ],
   "source": [
    "from sklearn.metrics import confusion_matrix\n",
    "print(confusion_matrix(y_test,yhat))"
   ]
  },
  {
   "cell_type": "code",
   "execution_count": null,
   "metadata": {},
   "outputs": [],
   "source": []
  }
 ],
 "metadata": {
  "kernelspec": {
   "display_name": "Python 3",
   "language": "python",
   "name": "python3"
  },
  "language_info": {
   "codemirror_mode": {
    "name": "ipython",
    "version": 3
   },
   "file_extension": ".py",
   "mimetype": "text/x-python",
   "name": "python",
   "nbconvert_exporter": "python",
   "pygments_lexer": "ipython3",
   "version": "3.7.3"
  }
 },
 "nbformat": 4,
 "nbformat_minor": 2
}
