{
 "cells": [
  {
   "cell_type": "code",
   "execution_count": 1,
   "metadata": {},
   "outputs": [],
   "source": [
    "import requests\n",
    "from bs4 import BeautifulSoup as bs"
   ]
  },
  {
   "cell_type": "code",
   "execution_count": 2,
   "metadata": {},
   "outputs": [],
   "source": [
    "page = requests.get('https://github.com/trending')"
   ]
  },
  {
   "cell_type": "code",
   "execution_count": 3,
   "metadata": {},
   "outputs": [],
   "source": [
    "soup = bs(page.text, 'html.parser')"
   ]
  },
  {
   "cell_type": "code",
   "execution_count": 5,
   "metadata": {},
   "outputs": [],
   "source": [
    "repo = (soup.find(class_ = 'explore-pjax-container container-lg p-responsive pt-6'))"
   ]
  },
  {
   "cell_type": "code",
   "execution_count": 6,
   "metadata": {},
   "outputs": [],
   "source": [
    "repo_list = (soup.find_all(class_ = 'Box-row'))"
   ]
  },
  {
   "cell_type": "code",
   "execution_count": 10,
   "metadata": {},
   "outputs": [
    {
     "name": "stdout",
     "output_type": "stream",
     "text": [
      "25\n"
     ]
    }
   ],
   "source": [
    "print(len(repo_list))"
   ]
  },
  {
   "cell_type": "code",
   "execution_count": 16,
   "metadata": {},
   "outputs": [],
   "source": [
    "names = (soup.find_all('span', class_ = 'text-normal'))"
   ]
  },
  {
   "cell_type": "code",
   "execution_count": 20,
   "metadata": {},
   "outputs": [
    {
     "data": {
      "text/plain": [
       "['→',\n",
       " '→',\n",
       " '→',\n",
       " '→',\n",
       " '→',\n",
       " '→',\n",
       " '→',\n",
       " '\\n        KunMinX /\\n',\n",
       " '\\n        flutter /\\n',\n",
       " '\\n        angular /\\n',\n",
       " '\\n        cypress-io /\\n',\n",
       " '\\n        rapidsai /\\n',\n",
       " '\\n        luka1199 /\\n',\n",
       " '\\n        Geek-James /\\n',\n",
       " '\\n        sveltejs /\\n',\n",
       " '\\n        google /\\n',\n",
       " '\\n        ra1nstorm /\\n',\n",
       " '\\n        huggingface /\\n',\n",
       " '\\n        gin-gonic /\\n',\n",
       " '\\n        onnx /\\n',\n",
       " '\\n        testerSunshine /\\n',\n",
       " '\\n        puppeteer /\\n',\n",
       " '\\n        twigphp /\\n',\n",
       " '\\n        golang /\\n',\n",
       " '\\n        sunainapai /\\n',\n",
       " '\\n        go-redis /\\n',\n",
       " '\\n        swaggo /\\n',\n",
       " '\\n        awslabs /\\n',\n",
       " '\\n        GoAdminGroup /\\n',\n",
       " '\\n        SVProgressHUD /\\n',\n",
       " '\\n        CyC2018 /\\n',\n",
       " '\\n        mikel /\\n']"
      ]
     },
     "execution_count": 20,
     "metadata": {},
     "output_type": "execute_result"
    }
   ],
   "source": [
    "repo_name = []\n",
    "for i in range(0,len(names)):\n",
    "    # get_text removes all the tages and extract text\n",
    "    repo_name.append(names[i].get_text())\n",
    "repo_name"
   ]
  },
  {
   "cell_type": "code",
   "execution_count": 21,
   "metadata": {},
   "outputs": [],
   "source": [
    "repo_name = repo_name[7:len(repo_name)]"
   ]
  },
  {
   "cell_type": "code",
   "execution_count": 22,
   "metadata": {},
   "outputs": [
    {
     "data": {
      "text/plain": [
       "['\\n        KunMinX /\\n',\n",
       " '\\n        flutter /\\n',\n",
       " '\\n        angular /\\n',\n",
       " '\\n        cypress-io /\\n',\n",
       " '\\n        rapidsai /\\n',\n",
       " '\\n        luka1199 /\\n',\n",
       " '\\n        Geek-James /\\n',\n",
       " '\\n        sveltejs /\\n',\n",
       " '\\n        google /\\n',\n",
       " '\\n        ra1nstorm /\\n',\n",
       " '\\n        huggingface /\\n',\n",
       " '\\n        gin-gonic /\\n',\n",
       " '\\n        onnx /\\n',\n",
       " '\\n        testerSunshine /\\n',\n",
       " '\\n        puppeteer /\\n',\n",
       " '\\n        twigphp /\\n',\n",
       " '\\n        golang /\\n',\n",
       " '\\n        sunainapai /\\n',\n",
       " '\\n        go-redis /\\n',\n",
       " '\\n        swaggo /\\n',\n",
       " '\\n        awslabs /\\n',\n",
       " '\\n        GoAdminGroup /\\n',\n",
       " '\\n        SVProgressHUD /\\n',\n",
       " '\\n        CyC2018 /\\n',\n",
       " '\\n        mikel /\\n']"
      ]
     },
     "execution_count": 22,
     "metadata": {},
     "output_type": "execute_result"
    }
   ],
   "source": [
    "repo_name"
   ]
  },
  {
   "cell_type": "code",
   "execution_count": 24,
   "metadata": {},
   "outputs": [
    {
     "data": {
      "text/plain": [
       "['\\n        KunMinX /',\n",
       " '\\n        flutter /',\n",
       " '\\n        angular /',\n",
       " '\\n        cypress-io /',\n",
       " '\\n        rapidsai /',\n",
       " '\\n        luka1199 /',\n",
       " '\\n        Geek-James /',\n",
       " '\\n        sveltejs /',\n",
       " '\\n        google /',\n",
       " '\\n        ra1nstorm /',\n",
       " '\\n        huggingface /',\n",
       " '\\n        gin-gonic /',\n",
       " '\\n        onnx /',\n",
       " '\\n        testerSunshine /',\n",
       " '\\n        puppeteer /',\n",
       " '\\n        twigphp /',\n",
       " '\\n        golang /',\n",
       " '\\n        sunainapai /',\n",
       " '\\n        go-redis /',\n",
       " '\\n        swaggo /',\n",
       " '\\n        awslabs /',\n",
       " '\\n        GoAdminGroup /',\n",
       " '\\n        SVProgressHUD /',\n",
       " '\\n        CyC2018 /',\n",
       " '\\n        mikel /']"
      ]
     },
     "execution_count": 24,
     "metadata": {},
     "output_type": "execute_result"
    }
   ],
   "source": [
    "repo_name[:] = [repo_names.rstrip('\\n') for repo_names in repo_name]\n",
    "repo_name"
   ]
  },
  {
   "cell_type": "code",
   "execution_count": 25,
   "metadata": {},
   "outputs": [
    {
     "data": {
      "text/plain": [
       "['\\n        KunMinX ',\n",
       " '\\n        flutter ',\n",
       " '\\n        angular ',\n",
       " '\\n        cypress-io ',\n",
       " '\\n        rapidsai ',\n",
       " '\\n        luka1199 ',\n",
       " '\\n        Geek-James ',\n",
       " '\\n        sveltejs ',\n",
       " '\\n        google ',\n",
       " '\\n        ra1nstorm ',\n",
       " '\\n        huggingface ',\n",
       " '\\n        gin-gonic ',\n",
       " '\\n        onnx ',\n",
       " '\\n        testerSunshine ',\n",
       " '\\n        puppeteer ',\n",
       " '\\n        twigphp ',\n",
       " '\\n        golang ',\n",
       " '\\n        sunainapai ',\n",
       " '\\n        go-redis ',\n",
       " '\\n        swaggo ',\n",
       " '\\n        awslabs ',\n",
       " '\\n        GoAdminGroup ',\n",
       " '\\n        SVProgressHUD ',\n",
       " '\\n        CyC2018 ',\n",
       " '\\n        mikel ']"
      ]
     },
     "execution_count": 25,
     "metadata": {},
     "output_type": "execute_result"
    }
   ],
   "source": [
    "repo_name[:] = [repo_names.rstrip(\"/'\") for repo_names in repo_name]\n",
    "repo_name"
   ]
  },
  {
   "cell_type": "code",
   "execution_count": 26,
   "metadata": {},
   "outputs": [
    {
     "data": {
      "text/plain": [
       "['        KunMinX ',\n",
       " '        flutter ',\n",
       " '        angular ',\n",
       " '        cypress-io ',\n",
       " '        rapidsai ',\n",
       " '        luka1199 ',\n",
       " '        Geek-James ',\n",
       " '        sveltejs ',\n",
       " '        google ',\n",
       " '        ra1nstorm ',\n",
       " '        huggingface ',\n",
       " '        gin-gonic ',\n",
       " '        onnx ',\n",
       " '        testerSunshine ',\n",
       " '        puppeteer ',\n",
       " '        twigphp ',\n",
       " '        golang ',\n",
       " '        sunainapai ',\n",
       " '        go-redis ',\n",
       " '        swaggo ',\n",
       " '        awslabs ',\n",
       " '        GoAdminGroup ',\n",
       " '        SVProgressHUD ',\n",
       " '        CyC2018 ',\n",
       " '        mikel ']"
      ]
     },
     "execution_count": 26,
     "metadata": {},
     "output_type": "execute_result"
    }
   ],
   "source": [
    "repo_name[:] = [repo_names.lstrip('\\n') for repo_names in repo_name]\n",
    "repo_name"
   ]
  },
  {
   "cell_type": "code",
   "execution_count": 29,
   "metadata": {},
   "outputs": [
    {
     "data": {
      "text/plain": [
       "['        KunMinX ',\n",
       " '        flutter ',\n",
       " '        angular ',\n",
       " '        cypress-io ',\n",
       " '        rapidsai ',\n",
       " '        luka1199 ',\n",
       " '        Geek-James ',\n",
       " '        sveltejs ',\n",
       " '        google ',\n",
       " '        ra1nstorm ',\n",
       " '        huggingface ',\n",
       " '        gin-gonic ',\n",
       " '        onnx ',\n",
       " '        testerSunshine ',\n",
       " '        puppeteer ',\n",
       " '        twigphp ',\n",
       " '        golang ',\n",
       " '        sunainapai ',\n",
       " '        go-redis ',\n",
       " '        swaggo ',\n",
       " '        awslabs ',\n",
       " '        GoAdminGroup ',\n",
       " '        SVProgressHUD ',\n",
       " '        CyC2018 ',\n",
       " '        mikel ']"
      ]
     },
     "execution_count": 29,
     "metadata": {},
     "output_type": "execute_result"
    }
   ],
   "source": [
    "repo_name[:] = [repo_names.rstrip(\"'\") for repo_names in repo_name]\n",
    "repo_name"
   ]
  },
  {
   "cell_type": "code",
   "execution_count": 30,
   "metadata": {},
   "outputs": [
    {
     "data": {
      "text/plain": [
       "['KunMinX',\n",
       " 'flutter',\n",
       " 'angular',\n",
       " 'cypress-io',\n",
       " 'rapidsai',\n",
       " 'luka1199',\n",
       " 'Geek-James',\n",
       " 'sveltejs',\n",
       " 'google',\n",
       " 'ra1nstorm',\n",
       " 'huggingface',\n",
       " 'gin-gonic',\n",
       " 'onnx',\n",
       " 'testerSunshine',\n",
       " 'puppeteer',\n",
       " 'twigphp',\n",
       " 'golang',\n",
       " 'sunainapai',\n",
       " 'go-redis',\n",
       " 'swaggo',\n",
       " 'awslabs',\n",
       " 'GoAdminGroup',\n",
       " 'SVProgressHUD',\n",
       " 'CyC2018',\n",
       " 'mikel']"
      ]
     },
     "execution_count": 30,
     "metadata": {},
     "output_type": "execute_result"
    }
   ],
   "source": [
    "repo_name[:] = [repo_names.replace(\" \", '') for repo_names in repo_name]\n",
    "repo_name"
   ]
  },
  {
   "cell_type": "code",
   "execution_count": null,
   "metadata": {},
   "outputs": [],
   "source": []
  }
 ],
 "metadata": {
  "kernelspec": {
   "display_name": "Python 3",
   "language": "python",
   "name": "python3"
  },
  "language_info": {
   "codemirror_mode": {
    "name": "ipython",
    "version": 3
   },
   "file_extension": ".py",
   "mimetype": "text/x-python",
   "name": "python",
   "nbconvert_exporter": "python",
   "pygments_lexer": "ipython3",
   "version": "3.7.3"
  }
 },
 "nbformat": 4,
 "nbformat_minor": 2
}
